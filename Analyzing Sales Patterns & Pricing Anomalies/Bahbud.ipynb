{
 "cells": [
  {
   "attachments": {},
   "cell_type": "markdown",
   "metadata": {},
   "source": [
    "# Libraries"
   ]
  },
  {
   "cell_type": "code",
   "execution_count": 25,
   "metadata": {},
   "outputs": [
    {
     "name": "stderr",
     "output_type": "stream",
     "text": [
      "c:\\ProgramData\\Anaconda3\\lib\\site-packages\\xarray\\core\\pycompat.py:22: DeprecationWarning: distutils Version classes are deprecated. Use packaging.version instead.\n",
      "  duck_array_version = LooseVersion(duck_array_module.__version__)\n",
      "c:\\ProgramData\\Anaconda3\\lib\\site-packages\\xarray\\core\\pycompat.py:37: DeprecationWarning: distutils Version classes are deprecated. Use packaging.version instead.\n",
      "  duck_array_version = LooseVersion(\"0.0.0\")\n",
      "c:\\ProgramData\\Anaconda3\\lib\\site-packages\\xarray\\core\\pycompat.py:37: DeprecationWarning: distutils Version classes are deprecated. Use packaging.version instead.\n",
      "  duck_array_version = LooseVersion(\"0.0.0\")\n",
      "c:\\ProgramData\\Anaconda3\\lib\\site-packages\\setuptools\\_distutils\\version.py:351: DeprecationWarning: distutils Version classes are deprecated. Use packaging.version instead.\n",
      "  other = LooseVersion(other)\n",
      "c:\\ProgramData\\Anaconda3\\lib\\site-packages\\setuptools\\_distutils\\version.py:351: DeprecationWarning: distutils Version classes are deprecated. Use packaging.version instead.\n",
      "  other = LooseVersion(other)\n",
      "c:\\ProgramData\\Anaconda3\\lib\\site-packages\\xarray\\core\\npcompat.py:82: DeprecationWarning: distutils Version classes are deprecated. Use packaging.version instead.\n",
      "  if LooseVersion(np.__version__) >= \"1.20.0\":\n",
      "c:\\ProgramData\\Anaconda3\\lib\\site-packages\\setuptools\\_distutils\\version.py:351: DeprecationWarning: distutils Version classes are deprecated. Use packaging.version instead.\n",
      "  other = LooseVersion(other)\n",
      "c:\\ProgramData\\Anaconda3\\lib\\site-packages\\xarray\\core\\pdcompat.py:45: DeprecationWarning: distutils Version classes are deprecated. Use packaging.version instead.\n",
      "  if LooseVersion(pd.__version__) < \"0.25.0\":\n",
      "c:\\ProgramData\\Anaconda3\\lib\\site-packages\\setuptools\\_distutils\\version.py:351: DeprecationWarning: distutils Version classes are deprecated. Use packaging.version instead.\n",
      "  other = LooseVersion(other)\n"
     ]
    }
   ],
   "source": [
    "#import necessary libraries\n",
    "import pandas as pd\n",
    "import numpy as np\n",
    "import matplotlib.pyplot as plt\n",
    "import seaborn as sns\n",
    "import plotly.express as px\n",
    "import pandas as pd\n",
    "from mlxtend.frequent_patterns import apriori\n",
    "from mlxtend.frequent_patterns import association_rules"
   ]
  },
  {
   "attachments": {},
   "cell_type": "markdown",
   "metadata": {},
   "source": [
    "# Load The Dataset"
   ]
  },
  {
   "cell_type": "code",
   "execution_count": 26,
   "metadata": {},
   "outputs": [
    {
     "data": {
      "text/html": [
       "<div>\n",
       "<style scoped>\n",
       "    .dataframe tbody tr th:only-of-type {\n",
       "        vertical-align: middle;\n",
       "    }\n",
       "\n",
       "    .dataframe tbody tr th {\n",
       "        vertical-align: top;\n",
       "    }\n",
       "\n",
       "    .dataframe thead th {\n",
       "        text-align: right;\n",
       "    }\n",
       "</style>\n",
       "<table border=\"1\" class=\"dataframe\">\n",
       "  <thead>\n",
       "    <tr style=\"text-align: right;\">\n",
       "      <th></th>\n",
       "      <th>Order ID</th>\n",
       "      <th>Status</th>\n",
       "      <th>Product Name</th>\n",
       "      <th>SKU</th>\n",
       "      <th>Barcode</th>\n",
       "      <th>Quantity</th>\n",
       "      <th>Price</th>\n",
       "      <th>Type</th>\n",
       "      <th>Brand</th>\n",
       "    </tr>\n",
       "  </thead>\n",
       "  <tbody>\n",
       "    <tr>\n",
       "      <th>0</th>\n",
       "      <td>6526</td>\n",
       "      <td>Fulfilled</td>\n",
       "      <td>Artisan Glaxy</td>\n",
       "      <td>20-K-19</td>\n",
       "      <td>20-K-19</td>\n",
       "      <td>1</td>\n",
       "      <td>4990.0</td>\n",
       "      <td>Kurta</td>\n",
       "      <td>Behbud</td>\n",
       "    </tr>\n",
       "    <tr>\n",
       "      <th>1</th>\n",
       "      <td>6526</td>\n",
       "      <td>Fulfilled</td>\n",
       "      <td>White Breeze Red</td>\n",
       "      <td>37-18-SML</td>\n",
       "      <td>37-18-SML</td>\n",
       "      <td>1</td>\n",
       "      <td>2990.0</td>\n",
       "      <td>Kurta</td>\n",
       "      <td>Behbud</td>\n",
       "    </tr>\n",
       "    <tr>\n",
       "      <th>2</th>\n",
       "      <td>6526</td>\n",
       "      <td>Fulfilled</td>\n",
       "      <td>Sneak Peak - White</td>\n",
       "      <td>20-K-584</td>\n",
       "      <td>20-K-584</td>\n",
       "      <td>1</td>\n",
       "      <td>4990.0</td>\n",
       "      <td>Kurta</td>\n",
       "      <td>Behbud</td>\n",
       "    </tr>\n",
       "    <tr>\n",
       "      <th>3</th>\n",
       "      <td>6526</td>\n",
       "      <td>Fulfilled</td>\n",
       "      <td>Eid Glory - Peach</td>\n",
       "      <td>20-K-437</td>\n",
       "      <td>20-K-437</td>\n",
       "      <td>1</td>\n",
       "      <td>5480.0</td>\n",
       "      <td>Kurta</td>\n",
       "      <td>Behbud</td>\n",
       "    </tr>\n",
       "    <tr>\n",
       "      <th>4</th>\n",
       "      <td>6527</td>\n",
       "      <td>Fulfilled</td>\n",
       "      <td>Eid Tribe - Off White</td>\n",
       "      <td>20-K-613</td>\n",
       "      <td>20-K-613</td>\n",
       "      <td>1</td>\n",
       "      <td>3990.0</td>\n",
       "      <td>Kurta</td>\n",
       "      <td>Behbud</td>\n",
       "    </tr>\n",
       "  </tbody>\n",
       "</table>\n",
       "</div>"
      ],
      "text/plain": [
       "   Order ID     Status           Product Name        SKU    Barcode  Quantity  \\\n",
       "0      6526  Fulfilled          Artisan Glaxy    20-K-19    20-K-19         1   \n",
       "1      6526  Fulfilled       White Breeze Red  37-18-SML  37-18-SML         1   \n",
       "2      6526  Fulfilled     Sneak Peak - White   20-K-584   20-K-584         1   \n",
       "3      6526  Fulfilled      Eid Glory - Peach   20-K-437   20-K-437         1   \n",
       "4      6527  Fulfilled  Eid Tribe - Off White   20-K-613   20-K-613         1   \n",
       "\n",
       "    Price   Type   Brand  \n",
       "0  4990.0  Kurta  Behbud  \n",
       "1  2990.0  Kurta  Behbud  \n",
       "2  4990.0  Kurta  Behbud  \n",
       "3  5480.0  Kurta  Behbud  \n",
       "4  3990.0  Kurta  Behbud  "
      ]
     },
     "execution_count": 26,
     "metadata": {},
     "output_type": "execute_result"
    }
   ],
   "source": [
    "#read the data\n",
    "df = pd.read_excel('Bahbud Botique.xlsx')\n",
    "\n",
    "df.head()"
   ]
  },
  {
   "attachments": {},
   "cell_type": "markdown",
   "metadata": {},
   "source": [
    "# Exploratory Data Analysis"
   ]
  },
  {
   "cell_type": "code",
   "execution_count": 27,
   "metadata": {},
   "outputs": [
    {
     "data": {
      "application/vnd.jupyter.widget-view+json": {
       "model_id": "7b8e82a49dfd4b18bd358247e45e80a4",
       "version_major": 2,
       "version_minor": 0
      },
      "text/plain": [
       "Summarize dataset:   0%|          | 0/5 [00:00<?, ?it/s]"
      ]
     },
     "metadata": {},
     "output_type": "display_data"
    },
    {
     "data": {
      "application/vnd.jupyter.widget-view+json": {
       "model_id": "90e30ad908224209940f90aa84271840",
       "version_major": 2,
       "version_minor": 0
      },
      "text/plain": [
       "Generate report structure:   0%|          | 0/1 [00:00<?, ?it/s]"
      ]
     },
     "metadata": {},
     "output_type": "display_data"
    },
    {
     "data": {
      "application/vnd.jupyter.widget-view+json": {
       "model_id": "9dc2dc5fd2ae4d85b783634c095ad5ab",
       "version_major": 2,
       "version_minor": 0
      },
      "text/plain": [
       "Render HTML:   0%|          | 0/1 [00:00<?, ?it/s]"
      ]
     },
     "metadata": {},
     "output_type": "display_data"
    },
    {
     "name": "stderr",
     "output_type": "stream",
     "text": [
      "C:\\Users\\hp\\AppData\\Roaming\\Python\\Python39\\site-packages\\pandas_profiling\\report\\presentation\\flavours\\html\\templates\\alerts.html:81: DeprecationWarning: 'soft_unicode' has been renamed to 'soft_str'. The old name will be removed in MarkupSafe 2.1.\n",
      "C:\\Users\\hp\\AppData\\Roaming\\Python\\Python39\\site-packages\\pandas_profiling\\report\\presentation\\flavours\\html\\templates\\alerts.html:85: DeprecationWarning: 'soft_unicode' has been renamed to 'soft_str'. The old name will be removed in MarkupSafe 2.1.\n",
      "C:\\Users\\hp\\AppData\\Roaming\\Python\\Python39\\site-packages\\pandas_profiling\\report\\presentation\\flavours\\html\\templates\\alerts.html:87: DeprecationWarning: 'soft_unicode' has been renamed to 'soft_str'. The old name will be removed in MarkupSafe 2.1.\n",
      "C:\\Users\\hp\\AppData\\Roaming\\Python\\Python39\\site-packages\\pandas_profiling\\report\\presentation\\flavours\\html\\templates\\alerts.html:87: DeprecationWarning: 'soft_unicode' has been renamed to 'soft_str'. The old name will be removed in MarkupSafe 2.1.\n",
      "C:\\Users\\hp\\AppData\\Roaming\\Python\\Python39\\site-packages\\pandas_profiling\\report\\presentation\\flavours\\html\\templates\\alerts.html:81: DeprecationWarning: 'soft_unicode' has been renamed to 'soft_str'. The old name will be removed in MarkupSafe 2.1.\n",
      "C:\\Users\\hp\\AppData\\Roaming\\Python\\Python39\\site-packages\\pandas_profiling\\report\\presentation\\flavours\\html\\templates\\alerts.html:85: DeprecationWarning: 'soft_unicode' has been renamed to 'soft_str'. The old name will be removed in MarkupSafe 2.1.\n",
      "C:\\Users\\hp\\AppData\\Roaming\\Python\\Python39\\site-packages\\pandas_profiling\\report\\presentation\\flavours\\html\\templates\\alerts.html:87: DeprecationWarning: 'soft_unicode' has been renamed to 'soft_str'. The old name will be removed in MarkupSafe 2.1.\n",
      "C:\\Users\\hp\\AppData\\Roaming\\Python\\Python39\\site-packages\\pandas_profiling\\report\\presentation\\flavours\\html\\templates\\alerts.html:87: DeprecationWarning: 'soft_unicode' has been renamed to 'soft_str'. The old name will be removed in MarkupSafe 2.1.\n",
      "C:\\Users\\hp\\AppData\\Roaming\\Python\\Python39\\site-packages\\pandas_profiling\\report\\presentation\\flavours\\html\\templates\\alerts.html:81: DeprecationWarning: 'soft_unicode' has been renamed to 'soft_str'. The old name will be removed in MarkupSafe 2.1.\n",
      "C:\\Users\\hp\\AppData\\Roaming\\Python\\Python39\\site-packages\\pandas_profiling\\report\\presentation\\flavours\\html\\templates\\alerts.html:85: DeprecationWarning: 'soft_unicode' has been renamed to 'soft_str'. The old name will be removed in MarkupSafe 2.1.\n",
      "C:\\Users\\hp\\AppData\\Roaming\\Python\\Python39\\site-packages\\pandas_profiling\\report\\presentation\\flavours\\html\\templates\\alerts.html:87: DeprecationWarning: 'soft_unicode' has been renamed to 'soft_str'. The old name will be removed in MarkupSafe 2.1.\n",
      "C:\\Users\\hp\\AppData\\Roaming\\Python\\Python39\\site-packages\\pandas_profiling\\report\\presentation\\flavours\\html\\templates\\alerts.html:87: DeprecationWarning: 'soft_unicode' has been renamed to 'soft_str'. The old name will be removed in MarkupSafe 2.1.\n",
      "C:\\Users\\hp\\AppData\\Roaming\\Python\\Python39\\site-packages\\pandas_profiling\\report\\presentation\\flavours\\html\\templates\\alerts.html:81: DeprecationWarning: 'soft_unicode' has been renamed to 'soft_str'. The old name will be removed in MarkupSafe 2.1.\n",
      "C:\\Users\\hp\\AppData\\Roaming\\Python\\Python39\\site-packages\\pandas_profiling\\report\\presentation\\flavours\\html\\templates\\alerts.html:85: DeprecationWarning: 'soft_unicode' has been renamed to 'soft_str'. The old name will be removed in MarkupSafe 2.1.\n",
      "C:\\Users\\hp\\AppData\\Roaming\\Python\\Python39\\site-packages\\pandas_profiling\\report\\presentation\\flavours\\html\\templates\\alerts.html:87: DeprecationWarning: 'soft_unicode' has been renamed to 'soft_str'. The old name will be removed in MarkupSafe 2.1.\n",
      "C:\\Users\\hp\\AppData\\Roaming\\Python\\Python39\\site-packages\\pandas_profiling\\report\\presentation\\flavours\\html\\templates\\alerts.html:87: DeprecationWarning: 'soft_unicode' has been renamed to 'soft_str'. The old name will be removed in MarkupSafe 2.1.\n",
      "C:\\Users\\hp\\AppData\\Roaming\\Python\\Python39\\site-packages\\pandas_profiling\\report\\presentation\\flavours\\html\\templates\\alerts.html:81: DeprecationWarning: 'soft_unicode' has been renamed to 'soft_str'. The old name will be removed in MarkupSafe 2.1.\n",
      "C:\\Users\\hp\\AppData\\Roaming\\Python\\Python39\\site-packages\\pandas_profiling\\report\\presentation\\flavours\\html\\templates\\alerts.html:85: DeprecationWarning: 'soft_unicode' has been renamed to 'soft_str'. The old name will be removed in MarkupSafe 2.1.\n",
      "C:\\Users\\hp\\AppData\\Roaming\\Python\\Python39\\site-packages\\pandas_profiling\\report\\presentation\\flavours\\html\\templates\\alerts.html:87: DeprecationWarning: 'soft_unicode' has been renamed to 'soft_str'. The old name will be removed in MarkupSafe 2.1.\n",
      "C:\\Users\\hp\\AppData\\Roaming\\Python\\Python39\\site-packages\\pandas_profiling\\report\\presentation\\flavours\\html\\templates\\alerts.html:87: DeprecationWarning: 'soft_unicode' has been renamed to 'soft_str'. The old name will be removed in MarkupSafe 2.1.\n",
      "C:\\Users\\hp\\AppData\\Roaming\\Python\\Python39\\site-packages\\pandas_profiling\\report\\presentation\\flavours\\html\\templates\\alerts.html:81: DeprecationWarning: 'soft_unicode' has been renamed to 'soft_str'. The old name will be removed in MarkupSafe 2.1.\n",
      "C:\\Users\\hp\\AppData\\Roaming\\Python\\Python39\\site-packages\\pandas_profiling\\report\\presentation\\flavours\\html\\templates\\alerts.html:85: DeprecationWarning: 'soft_unicode' has been renamed to 'soft_str'. The old name will be removed in MarkupSafe 2.1.\n",
      "C:\\Users\\hp\\AppData\\Roaming\\Python\\Python39\\site-packages\\pandas_profiling\\report\\presentation\\flavours\\html\\templates\\alerts.html:87: DeprecationWarning: 'soft_unicode' has been renamed to 'soft_str'. The old name will be removed in MarkupSafe 2.1.\n",
      "C:\\Users\\hp\\AppData\\Roaming\\Python\\Python39\\site-packages\\pandas_profiling\\report\\presentation\\flavours\\html\\templates\\alerts.html:87: DeprecationWarning: 'soft_unicode' has been renamed to 'soft_str'. The old name will be removed in MarkupSafe 2.1.\n",
      "C:\\Users\\hp\\AppData\\Roaming\\Python\\Python39\\site-packages\\pandas_profiling\\report\\presentation\\flavours\\html\\templates\\alerts.html:81: DeprecationWarning: 'soft_unicode' has been renamed to 'soft_str'. The old name will be removed in MarkupSafe 2.1.\n",
      "C:\\Users\\hp\\AppData\\Roaming\\Python\\Python39\\site-packages\\pandas_profiling\\report\\presentation\\flavours\\html\\templates\\alerts.html:85: DeprecationWarning: 'soft_unicode' has been renamed to 'soft_str'. The old name will be removed in MarkupSafe 2.1.\n",
      "C:\\Users\\hp\\AppData\\Roaming\\Python\\Python39\\site-packages\\pandas_profiling\\report\\presentation\\flavours\\html\\templates\\alerts.html:87: DeprecationWarning: 'soft_unicode' has been renamed to 'soft_str'. The old name will be removed in MarkupSafe 2.1.\n",
      "C:\\Users\\hp\\AppData\\Roaming\\Python\\Python39\\site-packages\\pandas_profiling\\report\\presentation\\flavours\\html\\templates\\alerts.html:87: DeprecationWarning: 'soft_unicode' has been renamed to 'soft_str'. The old name will be removed in MarkupSafe 2.1.\n",
      "C:\\Users\\hp\\AppData\\Roaming\\Python\\Python39\\site-packages\\pandas_profiling\\report\\presentation\\flavours\\html\\templates\\alerts.html:81: DeprecationWarning: 'soft_unicode' has been renamed to 'soft_str'. The old name will be removed in MarkupSafe 2.1.\n",
      "C:\\Users\\hp\\AppData\\Roaming\\Python\\Python39\\site-packages\\pandas_profiling\\report\\presentation\\flavours\\html\\templates\\alerts.html:85: DeprecationWarning: 'soft_unicode' has been renamed to 'soft_str'. The old name will be removed in MarkupSafe 2.1.\n",
      "C:\\Users\\hp\\AppData\\Roaming\\Python\\Python39\\site-packages\\pandas_profiling\\report\\presentation\\flavours\\html\\templates\\alerts.html:87: DeprecationWarning: 'soft_unicode' has been renamed to 'soft_str'. The old name will be removed in MarkupSafe 2.1.\n",
      "C:\\Users\\hp\\AppData\\Roaming\\Python\\Python39\\site-packages\\pandas_profiling\\report\\presentation\\flavours\\html\\templates\\alerts.html:87: DeprecationWarning: 'soft_unicode' has been renamed to 'soft_str'. The old name will be removed in MarkupSafe 2.1.\n",
      "C:\\Users\\hp\\AppData\\Roaming\\Python\\Python39\\site-packages\\pandas_profiling\\report\\presentation\\flavours\\html\\templates\\alerts.html:81: DeprecationWarning: 'soft_unicode' has been renamed to 'soft_str'. The old name will be removed in MarkupSafe 2.1.\n",
      "C:\\Users\\hp\\AppData\\Roaming\\Python\\Python39\\site-packages\\pandas_profiling\\report\\presentation\\flavours\\html\\templates\\alerts.html:85: DeprecationWarning: 'soft_unicode' has been renamed to 'soft_str'. The old name will be removed in MarkupSafe 2.1.\n",
      "C:\\Users\\hp\\AppData\\Roaming\\Python\\Python39\\site-packages\\pandas_profiling\\report\\presentation\\flavours\\html\\templates\\alerts.html:87: DeprecationWarning: 'soft_unicode' has been renamed to 'soft_str'. The old name will be removed in MarkupSafe 2.1.\n",
      "C:\\Users\\hp\\AppData\\Roaming\\Python\\Python39\\site-packages\\pandas_profiling\\report\\presentation\\flavours\\html\\templates\\alerts.html:87: DeprecationWarning: 'soft_unicode' has been renamed to 'soft_str'. The old name will be removed in MarkupSafe 2.1.\n",
      "C:\\Users\\hp\\AppData\\Roaming\\Python\\Python39\\site-packages\\pandas_profiling\\report\\presentation\\flavours\\html\\templates\\alerts.html:81: DeprecationWarning: 'soft_unicode' has been renamed to 'soft_str'. The old name will be removed in MarkupSafe 2.1.\n",
      "C:\\Users\\hp\\AppData\\Roaming\\Python\\Python39\\site-packages\\pandas_profiling\\report\\presentation\\flavours\\html\\templates\\alerts.html:85: DeprecationWarning: 'soft_unicode' has been renamed to 'soft_str'. The old name will be removed in MarkupSafe 2.1.\n",
      "C:\\Users\\hp\\AppData\\Roaming\\Python\\Python39\\site-packages\\pandas_profiling\\report\\presentation\\flavours\\html\\templates\\alerts.html:87: DeprecationWarning: 'soft_unicode' has been renamed to 'soft_str'. The old name will be removed in MarkupSafe 2.1.\n",
      "C:\\Users\\hp\\AppData\\Roaming\\Python\\Python39\\site-packages\\pandas_profiling\\report\\presentation\\flavours\\html\\templates\\alerts.html:87: DeprecationWarning: 'soft_unicode' has been renamed to 'soft_str'. The old name will be removed in MarkupSafe 2.1.\n",
      "C:\\Users\\hp\\AppData\\Roaming\\Python\\Python39\\site-packages\\pandas_profiling\\report\\presentation\\flavours\\html\\templates\\sequence\\batch_grid.html:23: DeprecationWarning: 'soft_unicode' has been renamed to 'soft_str'. The old name will be removed in MarkupSafe 2.1.\n",
      "C:\\Users\\hp\\AppData\\Roaming\\Python\\Python39\\site-packages\\pandas_profiling\\report\\presentation\\flavours\\html\\templates\\sequence\\batch_grid.html:23: DeprecationWarning: 'soft_unicode' has been renamed to 'soft_str'. The old name will be removed in MarkupSafe 2.1.\n",
      "C:\\Users\\hp\\AppData\\Roaming\\Python\\Python39\\site-packages\\pandas_profiling\\report\\presentation\\flavours\\html\\templates\\sequence\\batch_grid.html:23: DeprecationWarning: 'soft_unicode' has been renamed to 'soft_str'. The old name will be removed in MarkupSafe 2.1.\n",
      "C:\\Users\\hp\\AppData\\Roaming\\Python\\Python39\\site-packages\\pandas_profiling\\report\\presentation\\flavours\\html\\templates\\sequence\\batch_grid.html:23: DeprecationWarning: 'soft_unicode' has been renamed to 'soft_str'. The old name will be removed in MarkupSafe 2.1.\n",
      "C:\\Users\\hp\\AppData\\Roaming\\Python\\Python39\\site-packages\\pandas_profiling\\report\\presentation\\flavours\\html\\templates\\sequence\\batch_grid.html:23: DeprecationWarning: 'soft_unicode' has been renamed to 'soft_str'. The old name will be removed in MarkupSafe 2.1.\n",
      "C:\\Users\\hp\\AppData\\Roaming\\Python\\Python39\\site-packages\\pandas_profiling\\report\\presentation\\flavours\\html\\templates\\sequence\\batch_grid.html:23: DeprecationWarning: 'soft_unicode' has been renamed to 'soft_str'. The old name will be removed in MarkupSafe 2.1.\n",
      "C:\\Users\\hp\\AppData\\Roaming\\Python\\Python39\\site-packages\\pandas_profiling\\report\\presentation\\flavours\\html\\templates\\sequence\\batch_grid.html:23: DeprecationWarning: 'soft_unicode' has been renamed to 'soft_str'. The old name will be removed in MarkupSafe 2.1.\n",
      "C:\\Users\\hp\\AppData\\Roaming\\Python\\Python39\\site-packages\\pandas_profiling\\report\\presentation\\flavours\\html\\templates\\sequence\\batch_grid.html:23: DeprecationWarning: 'soft_unicode' has been renamed to 'soft_str'. The old name will be removed in MarkupSafe 2.1.\n",
      "C:\\Users\\hp\\AppData\\Roaming\\Python\\Python39\\site-packages\\pandas_profiling\\report\\presentation\\flavours\\html\\templates\\sequence\\batch_grid.html:23: DeprecationWarning: 'soft_unicode' has been renamed to 'soft_str'. The old name will be removed in MarkupSafe 2.1.\n",
      "C:\\Users\\hp\\AppData\\Roaming\\Python\\Python39\\site-packages\\pandas_profiling\\report\\presentation\\flavours\\html\\templates\\sequence\\batch_grid.html:23: DeprecationWarning: 'soft_unicode' has been renamed to 'soft_str'. The old name will be removed in MarkupSafe 2.1.\n",
      "C:\\Users\\hp\\AppData\\Roaming\\Python\\Python39\\site-packages\\pandas_profiling\\report\\presentation\\flavours\\html\\templates\\sequence\\batch_grid.html:23: DeprecationWarning: 'soft_unicode' has been renamed to 'soft_str'. The old name will be removed in MarkupSafe 2.1.\n",
      "C:\\Users\\hp\\AppData\\Roaming\\Python\\Python39\\site-packages\\pandas_profiling\\report\\presentation\\flavours\\html\\templates\\sequence\\batch_grid.html:23: DeprecationWarning: 'soft_unicode' has been renamed to 'soft_str'. The old name will be removed in MarkupSafe 2.1.\n",
      "C:\\Users\\hp\\AppData\\Roaming\\Python\\Python39\\site-packages\\pandas_profiling\\report\\presentation\\flavours\\html\\templates\\sequence\\batch_grid.html:23: DeprecationWarning: 'soft_unicode' has been renamed to 'soft_str'. The old name will be removed in MarkupSafe 2.1.\n",
      "C:\\Users\\hp\\AppData\\Roaming\\Python\\Python39\\site-packages\\pandas_profiling\\report\\presentation\\flavours\\html\\templates\\sequence\\batch_grid.html:23: DeprecationWarning: 'soft_unicode' has been renamed to 'soft_str'. The old name will be removed in MarkupSafe 2.1.\n",
      "C:\\Users\\hp\\AppData\\Roaming\\Python\\Python39\\site-packages\\pandas_profiling\\report\\presentation\\flavours\\html\\templates\\sequence\\batch_grid.html:23: DeprecationWarning: 'soft_unicode' has been renamed to 'soft_str'. The old name will be removed in MarkupSafe 2.1.\n",
      "C:\\Users\\hp\\AppData\\Roaming\\Python\\Python39\\site-packages\\pandas_profiling\\report\\presentation\\flavours\\html\\templates\\sequence\\batch_grid.html:23: DeprecationWarning: 'soft_unicode' has been renamed to 'soft_str'. The old name will be removed in MarkupSafe 2.1.\n",
      "C:\\Users\\hp\\AppData\\Roaming\\Python\\Python39\\site-packages\\pandas_profiling\\report\\presentation\\flavours\\html\\templates\\sequence\\batch_grid.html:23: DeprecationWarning: 'soft_unicode' has been renamed to 'soft_str'. The old name will be removed in MarkupSafe 2.1.\n",
      "C:\\Users\\hp\\AppData\\Roaming\\Python\\Python39\\site-packages\\pandas_profiling\\report\\presentation\\flavours\\html\\templates\\sequence\\batch_grid.html:23: DeprecationWarning: 'soft_unicode' has been renamed to 'soft_str'. The old name will be removed in MarkupSafe 2.1.\n",
      "C:\\Users\\hp\\AppData\\Roaming\\Python\\Python39\\site-packages\\pandas_profiling\\report\\presentation\\flavours\\html\\templates\\sequence\\batch_grid.html:23: DeprecationWarning: 'soft_unicode' has been renamed to 'soft_str'. The old name will be removed in MarkupSafe 2.1.\n",
      "C:\\Users\\hp\\AppData\\Roaming\\Python\\Python39\\site-packages\\pandas_profiling\\report\\presentation\\flavours\\html\\templates\\sequence\\batch_grid.html:23: DeprecationWarning: 'soft_unicode' has been renamed to 'soft_str'. The old name will be removed in MarkupSafe 2.1.\n",
      "C:\\Users\\hp\\AppData\\Roaming\\Python\\Python39\\site-packages\\pandas_profiling\\report\\presentation\\flavours\\html\\templates\\sequence\\batch_grid.html:23: DeprecationWarning: 'soft_unicode' has been renamed to 'soft_str'. The old name will be removed in MarkupSafe 2.1.\n",
      "C:\\Users\\hp\\AppData\\Roaming\\Python\\Python39\\site-packages\\pandas_profiling\\report\\presentation\\flavours\\html\\templates\\sequence\\batch_grid.html:23: DeprecationWarning: 'soft_unicode' has been renamed to 'soft_str'. The old name will be removed in MarkupSafe 2.1.\n",
      "C:\\Users\\hp\\AppData\\Roaming\\Python\\Python39\\site-packages\\pandas_profiling\\report\\presentation\\flavours\\html\\templates\\sequence\\batch_grid.html:23: DeprecationWarning: 'soft_unicode' has been renamed to 'soft_str'. The old name will be removed in MarkupSafe 2.1.\n",
      "C:\\Users\\hp\\AppData\\Roaming\\Python\\Python39\\site-packages\\pandas_profiling\\report\\presentation\\flavours\\html\\templates\\sequence\\batch_grid.html:23: DeprecationWarning: 'soft_unicode' has been renamed to 'soft_str'. The old name will be removed in MarkupSafe 2.1.\n",
      "C:\\Users\\hp\\AppData\\Roaming\\Python\\Python39\\site-packages\\pandas_profiling\\report\\presentation\\flavours\\html\\templates\\sequence\\batch_grid.html:23: DeprecationWarning: 'soft_unicode' has been renamed to 'soft_str'. The old name will be removed in MarkupSafe 2.1.\n",
      "C:\\Users\\hp\\AppData\\Roaming\\Python\\Python39\\site-packages\\pandas_profiling\\report\\presentation\\flavours\\html\\templates\\sequence\\batch_grid.html:23: DeprecationWarning: 'soft_unicode' has been renamed to 'soft_str'. The old name will be removed in MarkupSafe 2.1.\n",
      "C:\\Users\\hp\\AppData\\Roaming\\Python\\Python39\\site-packages\\pandas_profiling\\report\\presentation\\flavours\\html\\templates\\sequence\\batch_grid.html:23: DeprecationWarning: 'soft_unicode' has been renamed to 'soft_str'. The old name will be removed in MarkupSafe 2.1.\n",
      "C:\\Users\\hp\\AppData\\Roaming\\Python\\Python39\\site-packages\\pandas_profiling\\report\\presentation\\flavours\\html\\templates\\sequence\\batch_grid.html:23: DeprecationWarning: 'soft_unicode' has been renamed to 'soft_str'. The old name will be removed in MarkupSafe 2.1.\n",
      "C:\\Users\\hp\\AppData\\Roaming\\Python\\Python39\\site-packages\\pandas_profiling\\report\\presentation\\flavours\\html\\templates\\sequence\\batch_grid.html:23: DeprecationWarning: 'soft_unicode' has been renamed to 'soft_str'. The old name will be removed in MarkupSafe 2.1.\n",
      "C:\\Users\\hp\\AppData\\Roaming\\Python\\Python39\\site-packages\\pandas_profiling\\report\\presentation\\flavours\\html\\templates\\sequence\\batch_grid.html:23: DeprecationWarning: 'soft_unicode' has been renamed to 'soft_str'. The old name will be removed in MarkupSafe 2.1.\n",
      "C:\\Users\\hp\\AppData\\Roaming\\Python\\Python39\\site-packages\\pandas_profiling\\report\\presentation\\flavours\\html\\templates\\sequence\\batch_grid.html:23: DeprecationWarning: 'soft_unicode' has been renamed to 'soft_str'. The old name will be removed in MarkupSafe 2.1.\n",
      "C:\\Users\\hp\\AppData\\Roaming\\Python\\Python39\\site-packages\\pandas_profiling\\report\\presentation\\flavours\\html\\templates\\sequence\\batch_grid.html:23: DeprecationWarning: 'soft_unicode' has been renamed to 'soft_str'. The old name will be removed in MarkupSafe 2.1.\n",
      "C:\\Users\\hp\\AppData\\Roaming\\Python\\Python39\\site-packages\\pandas_profiling\\report\\presentation\\flavours\\html\\templates\\sequence\\batch_grid.html:23: DeprecationWarning: 'soft_unicode' has been renamed to 'soft_str'. The old name will be removed in MarkupSafe 2.1.\n",
      "C:\\Users\\hp\\AppData\\Roaming\\Python\\Python39\\site-packages\\pandas_profiling\\report\\presentation\\flavours\\html\\templates\\sequence\\batch_grid.html:23: DeprecationWarning: 'soft_unicode' has been renamed to 'soft_str'. The old name will be removed in MarkupSafe 2.1.\n",
      "C:\\Users\\hp\\AppData\\Roaming\\Python\\Python39\\site-packages\\pandas_profiling\\report\\presentation\\flavours\\html\\templates\\sequence\\batch_grid.html:23: DeprecationWarning: 'soft_unicode' has been renamed to 'soft_str'. The old name will be removed in MarkupSafe 2.1.\n",
      "C:\\Users\\hp\\AppData\\Roaming\\Python\\Python39\\site-packages\\pandas_profiling\\report\\presentation\\flavours\\html\\templates\\sequence\\batch_grid.html:23: DeprecationWarning: 'soft_unicode' has been renamed to 'soft_str'. The old name will be removed in MarkupSafe 2.1.\n",
      "C:\\Users\\hp\\AppData\\Roaming\\Python\\Python39\\site-packages\\pandas_profiling\\report\\presentation\\flavours\\html\\templates\\sequence\\batch_grid.html:23: DeprecationWarning: 'soft_unicode' has been renamed to 'soft_str'. The old name will be removed in MarkupSafe 2.1.\n",
      "C:\\Users\\hp\\AppData\\Roaming\\Python\\Python39\\site-packages\\pandas_profiling\\report\\presentation\\flavours\\html\\templates\\sequence\\batch_grid.html:23: DeprecationWarning: 'soft_unicode' has been renamed to 'soft_str'. The old name will be removed in MarkupSafe 2.1.\n",
      "C:\\Users\\hp\\AppData\\Roaming\\Python\\Python39\\site-packages\\pandas_profiling\\report\\presentation\\flavours\\html\\templates\\sequence\\batch_grid.html:23: DeprecationWarning: 'soft_unicode' has been renamed to 'soft_str'. The old name will be removed in MarkupSafe 2.1.\n",
      "C:\\Users\\hp\\AppData\\Roaming\\Python\\Python39\\site-packages\\pandas_profiling\\report\\presentation\\flavours\\html\\templates\\sequence\\batch_grid.html:23: DeprecationWarning: 'soft_unicode' has been renamed to 'soft_str'. The old name will be removed in MarkupSafe 2.1.\n",
      "C:\\Users\\hp\\AppData\\Roaming\\Python\\Python39\\site-packages\\pandas_profiling\\report\\presentation\\flavours\\html\\templates\\sequence\\batch_grid.html:23: DeprecationWarning: 'soft_unicode' has been renamed to 'soft_str'. The old name will be removed in MarkupSafe 2.1.\n",
      "C:\\Users\\hp\\AppData\\Roaming\\Python\\Python39\\site-packages\\pandas_profiling\\report\\presentation\\flavours\\html\\templates\\sequence\\batch_grid.html:23: DeprecationWarning: 'soft_unicode' has been renamed to 'soft_str'. The old name will be removed in MarkupSafe 2.1.\n",
      "C:\\Users\\hp\\AppData\\Roaming\\Python\\Python39\\site-packages\\pandas_profiling\\report\\presentation\\flavours\\html\\templates\\sequence\\batch_grid.html:23: DeprecationWarning: 'soft_unicode' has been renamed to 'soft_str'. The old name will be removed in MarkupSafe 2.1.\n",
      "C:\\Users\\hp\\AppData\\Roaming\\Python\\Python39\\site-packages\\pandas_profiling\\report\\presentation\\flavours\\html\\templates\\sequence\\batch_grid.html:23: DeprecationWarning: 'soft_unicode' has been renamed to 'soft_str'. The old name will be removed in MarkupSafe 2.1.\n",
      "C:\\Users\\hp\\AppData\\Roaming\\Python\\Python39\\site-packages\\pandas_profiling\\report\\presentation\\flavours\\html\\templates\\sequence\\batch_grid.html:23: DeprecationWarning: 'soft_unicode' has been renamed to 'soft_str'. The old name will be removed in MarkupSafe 2.1.\n",
      "C:\\Users\\hp\\AppData\\Roaming\\Python\\Python39\\site-packages\\pandas_profiling\\report\\presentation\\flavours\\html\\templates\\sequence\\batch_grid.html:23: DeprecationWarning: 'soft_unicode' has been renamed to 'soft_str'. The old name will be removed in MarkupSafe 2.1.\n",
      "C:\\Users\\hp\\AppData\\Roaming\\Python\\Python39\\site-packages\\pandas_profiling\\report\\presentation\\flavours\\html\\templates\\sequence\\batch_grid.html:23: DeprecationWarning: 'soft_unicode' has been renamed to 'soft_str'. The old name will be removed in MarkupSafe 2.1.\n",
      "C:\\Users\\hp\\AppData\\Roaming\\Python\\Python39\\site-packages\\pandas_profiling\\report\\presentation\\flavours\\html\\templates\\sequence\\batch_grid.html:23: DeprecationWarning: 'soft_unicode' has been renamed to 'soft_str'. The old name will be removed in MarkupSafe 2.1.\n",
      "C:\\Users\\hp\\AppData\\Roaming\\Python\\Python39\\site-packages\\pandas_profiling\\report\\presentation\\flavours\\html\\templates\\sequence\\batch_grid.html:23: DeprecationWarning: 'soft_unicode' has been renamed to 'soft_str'. The old name will be removed in MarkupSafe 2.1.\n",
      "C:\\Users\\hp\\AppData\\Roaming\\Python\\Python39\\site-packages\\pandas_profiling\\report\\presentation\\flavours\\html\\templates\\sequence\\batch_grid.html:23: DeprecationWarning: 'soft_unicode' has been renamed to 'soft_str'. The old name will be removed in MarkupSafe 2.1.\n",
      "C:\\Users\\hp\\AppData\\Roaming\\Python\\Python39\\site-packages\\pandas_profiling\\report\\presentation\\flavours\\html\\templates\\sequence\\batch_grid.html:23: DeprecationWarning: 'soft_unicode' has been renamed to 'soft_str'. The old name will be removed in MarkupSafe 2.1.\n",
      "C:\\Users\\hp\\AppData\\Roaming\\Python\\Python39\\site-packages\\pandas_profiling\\report\\presentation\\flavours\\html\\templates\\sequence\\batch_grid.html:23: DeprecationWarning: 'soft_unicode' has been renamed to 'soft_str'. The old name will be removed in MarkupSafe 2.1.\n",
      "C:\\Users\\hp\\AppData\\Roaming\\Python\\Python39\\site-packages\\pandas_profiling\\report\\presentation\\flavours\\html\\templates\\sequence\\batch_grid.html:23: DeprecationWarning: 'soft_unicode' has been renamed to 'soft_str'. The old name will be removed in MarkupSafe 2.1.\n",
      "C:\\Users\\hp\\AppData\\Roaming\\Python\\Python39\\site-packages\\pandas_profiling\\report\\presentation\\flavours\\html\\templates\\sequence\\batch_grid.html:23: DeprecationWarning: 'soft_unicode' has been renamed to 'soft_str'. The old name will be removed in MarkupSafe 2.1.\n",
      "C:\\Users\\hp\\AppData\\Roaming\\Python\\Python39\\site-packages\\pandas_profiling\\report\\presentation\\flavours\\html\\templates\\sequence\\batch_grid.html:23: DeprecationWarning: 'soft_unicode' has been renamed to 'soft_str'. The old name will be removed in MarkupSafe 2.1.\n",
      "C:\\Users\\hp\\AppData\\Roaming\\Python\\Python39\\site-packages\\pandas_profiling\\report\\presentation\\flavours\\html\\templates\\sequence\\batch_grid.html:23: DeprecationWarning: 'soft_unicode' has been renamed to 'soft_str'. The old name will be removed in MarkupSafe 2.1.\n",
      "C:\\Users\\hp\\AppData\\Roaming\\Python\\Python39\\site-packages\\pandas_profiling\\report\\presentation\\flavours\\html\\templates\\sequence\\batch_grid.html:23: DeprecationWarning: 'soft_unicode' has been renamed to 'soft_str'. The old name will be removed in MarkupSafe 2.1.\n",
      "C:\\Users\\hp\\AppData\\Roaming\\Python\\Python39\\site-packages\\pandas_profiling\\report\\presentation\\flavours\\html\\templates\\sequence\\batch_grid.html:23: DeprecationWarning: 'soft_unicode' has been renamed to 'soft_str'. The old name will be removed in MarkupSafe 2.1.\n",
      "C:\\Users\\hp\\AppData\\Roaming\\Python\\Python39\\site-packages\\pandas_profiling\\report\\presentation\\flavours\\html\\templates\\sequence\\batch_grid.html:23: DeprecationWarning: 'soft_unicode' has been renamed to 'soft_str'. The old name will be removed in MarkupSafe 2.1.\n",
      "C:\\Users\\hp\\AppData\\Roaming\\Python\\Python39\\site-packages\\pandas_profiling\\report\\presentation\\flavours\\html\\templates\\sequence\\batch_grid.html:23: DeprecationWarning: 'soft_unicode' has been renamed to 'soft_str'. The old name will be removed in MarkupSafe 2.1.\n",
      "C:\\Users\\hp\\AppData\\Roaming\\Python\\Python39\\site-packages\\pandas_profiling\\report\\presentation\\flavours\\html\\templates\\sequence\\batch_grid.html:23: DeprecationWarning: 'soft_unicode' has been renamed to 'soft_str'. The old name will be removed in MarkupSafe 2.1.\n",
      "C:\\Users\\hp\\AppData\\Roaming\\Python\\Python39\\site-packages\\pandas_profiling\\report\\presentation\\flavours\\html\\templates\\sequence\\batch_grid.html:23: DeprecationWarning: 'soft_unicode' has been renamed to 'soft_str'. The old name will be removed in MarkupSafe 2.1.\n",
      "C:\\Users\\hp\\AppData\\Roaming\\Python\\Python39\\site-packages\\pandas_profiling\\report\\presentation\\flavours\\html\\templates\\sequence\\batch_grid.html:23: DeprecationWarning: 'soft_unicode' has been renamed to 'soft_str'. The old name will be removed in MarkupSafe 2.1.\n"
     ]
    },
    {
     "data": {
      "application/vnd.jupyter.widget-view+json": {
       "model_id": "6913b587ab3c4832ae7f53f55a85e857",
       "version_major": 2,
       "version_minor": 0
      },
      "text/plain": [
       "Export report to file:   0%|          | 0/1 [00:00<?, ?it/s]"
      ]
     },
     "metadata": {},
     "output_type": "display_data"
    }
   ],
   "source": [
    "#Install the below libaries before importing\n",
    "import pandas as pd\n",
    "from pandas_profiling import ProfileReport\n",
    "\n",
    "#EDA using pandas-profiling\n",
    "profile = ProfileReport(pd.read_excel(\"Bahbud Botique.xlsx\"), explorative=True)\n",
    "\n",
    "#Saving results to a HTML file\n",
    "profile.to_file(\"output.html\")"
   ]
  },
  {
   "cell_type": "code",
   "execution_count": 28,
   "metadata": {},
   "outputs": [
    {
     "data": {
      "text/plain": [
       "(599, 9)"
      ]
     },
     "execution_count": 28,
     "metadata": {},
     "output_type": "execute_result"
    }
   ],
   "source": [
    "#check the shape of the data\n",
    "df.shape"
   ]
  },
  {
   "cell_type": "code",
   "execution_count": 29,
   "metadata": {},
   "outputs": [
    {
     "data": {
      "text/plain": [
       "Order ID          int64\n",
       "Status           object\n",
       "Product Name     object\n",
       "SKU              object\n",
       "Barcode          object\n",
       "Quantity          int64\n",
       "Price           float64\n",
       "Type             object\n",
       "Brand            object\n",
       "dtype: object"
      ]
     },
     "execution_count": 29,
     "metadata": {},
     "output_type": "execute_result"
    }
   ],
   "source": [
    "#check the data types\n",
    "df.dtypes"
   ]
  },
  {
   "cell_type": "code",
   "execution_count": 30,
   "metadata": {},
   "outputs": [
    {
     "data": {
      "text/plain": [
       "Order ID        0\n",
       "Status          0\n",
       "Product Name    0\n",
       "SKU             0\n",
       "Barcode         0\n",
       "Quantity        0\n",
       "Price           0\n",
       "Type            0\n",
       "Brand           0\n",
       "dtype: int64"
      ]
     },
     "execution_count": 30,
     "metadata": {},
     "output_type": "execute_result"
    }
   ],
   "source": [
    "#check the missing values\n",
    "df.isnull().sum()"
   ]
  },
  {
   "cell_type": "code",
   "execution_count": 31,
   "metadata": {},
   "outputs": [
    {
     "data": {
      "text/plain": [
       "Order ID        423\n",
       "Status            2\n",
       "Product Name    245\n",
       "SKU             364\n",
       "Barcode         364\n",
       "Quantity          2\n",
       "Price            59\n",
       "Type             23\n",
       "Brand             2\n",
       "dtype: int64"
      ]
     },
     "execution_count": 31,
     "metadata": {},
     "output_type": "execute_result"
    }
   ],
   "source": [
    "#check the unique values\n",
    "df.nunique()\n"
   ]
  },
  {
   "attachments": {},
   "cell_type": "markdown",
   "metadata": {},
   "source": [
    "**Trends in the Data**"
   ]
  },
  {
   "cell_type": "code",
   "execution_count": 32,
   "metadata": {},
   "outputs": [
    {
     "name": "stderr",
     "output_type": "stream",
     "text": [
      "c:\\ProgramData\\Anaconda3\\lib\\site-packages\\plotly\\io\\_renderers.py:396: DeprecationWarning:\n",
      "\n",
      "distutils Version classes are deprecated. Use packaging.version instead.\n",
      "\n",
      "c:\\ProgramData\\Anaconda3\\lib\\site-packages\\plotly\\io\\_renderers.py:396: DeprecationWarning:\n",
      "\n",
      "distutils Version classes are deprecated. Use packaging.version instead.\n",
      "\n"
     ]
    },
    {
     "data": {
      "application/vnd.plotly.v1+json": {
       "config": {
        "plotlyServerURL": "https://plot.ly"
       },
       "data": [
        {
         "alignmentgroup": "True",
         "bingroup": "x",
         "hovertemplate": "Quantity=%{x}<br>count=%{y}<extra></extra>",
         "legendgroup": "",
         "marker": {
          "color": "#636efa",
          "pattern": {
           "shape": ""
          }
         },
         "name": "",
         "nbinsx": 50,
         "offsetgroup": "",
         "orientation": "v",
         "showlegend": false,
         "type": "histogram",
         "x": [
          1,
          1,
          1,
          1,
          1,
          1,
          1,
          1,
          1,
          1,
          1,
          1,
          1,
          1,
          1,
          1,
          1,
          1,
          1,
          1,
          1,
          1,
          1,
          1,
          1,
          1,
          1,
          1,
          1,
          1,
          1,
          1,
          1,
          1,
          1,
          1,
          1,
          1,
          2,
          1,
          1,
          1,
          1,
          1,
          1,
          1,
          1,
          1,
          1,
          1,
          1,
          1,
          1,
          1,
          1,
          1,
          1,
          1,
          1,
          1,
          1,
          1,
          1,
          1,
          1,
          1,
          1,
          1,
          1,
          1,
          1,
          1,
          1,
          1,
          1,
          1,
          1,
          1,
          1,
          1,
          1,
          1,
          1,
          1,
          1,
          1,
          1,
          1,
          1,
          1,
          1,
          1,
          1,
          1,
          1,
          1,
          1,
          1,
          1,
          1,
          1,
          1,
          1,
          1,
          1,
          1,
          1,
          1,
          1,
          1,
          1,
          1,
          1,
          1,
          1,
          1,
          1,
          1,
          1,
          1,
          1,
          1,
          1,
          1,
          1,
          1,
          1,
          1,
          1,
          1,
          1,
          1,
          1,
          1,
          1,
          1,
          1,
          1,
          1,
          1,
          1,
          1,
          1,
          1,
          1,
          1,
          1,
          1,
          1,
          1,
          1,
          1,
          1,
          1,
          1,
          1,
          1,
          1,
          1,
          1,
          1,
          1,
          1,
          1,
          1,
          1,
          1,
          1,
          1,
          1,
          1,
          1,
          1,
          1,
          1,
          1,
          1,
          1,
          1,
          1,
          1,
          1,
          1,
          1,
          1,
          1,
          1,
          1,
          1,
          1,
          1,
          1,
          1,
          1,
          1,
          1,
          1,
          1,
          1,
          1,
          1,
          1,
          1,
          1,
          1,
          1,
          2,
          1,
          1,
          1,
          1,
          1,
          1,
          1,
          1,
          1,
          1,
          1,
          1,
          1,
          1,
          1,
          1,
          1,
          1,
          1,
          1,
          1,
          1,
          1,
          1,
          1,
          1,
          1,
          1,
          1,
          1,
          1,
          1,
          1,
          1,
          1,
          1,
          1,
          1,
          1,
          1,
          1,
          1,
          1,
          1,
          1,
          1,
          1,
          1,
          1,
          1,
          1,
          1,
          1,
          1,
          1,
          1,
          1,
          1,
          1,
          1,
          1,
          1,
          1,
          1,
          1,
          1,
          1,
          1,
          1,
          1,
          1,
          1,
          1,
          1,
          1,
          1,
          1,
          1,
          1,
          1,
          1,
          1,
          1,
          1,
          1,
          1,
          1,
          1,
          1,
          1,
          1,
          1,
          1,
          1,
          1,
          1,
          1,
          1,
          1,
          1,
          1,
          1,
          1,
          1,
          1,
          1,
          1,
          1,
          1,
          1,
          1,
          1,
          1,
          1,
          1,
          1,
          1,
          1,
          1,
          1,
          1,
          1,
          1,
          1,
          1,
          1,
          1,
          1,
          1,
          1,
          1,
          1,
          1,
          1,
          1,
          1,
          1,
          1,
          1,
          1,
          1,
          1,
          1,
          1,
          1,
          1,
          1,
          1,
          1,
          1,
          1,
          1,
          1,
          1,
          1,
          1,
          1,
          1,
          1,
          1,
          1,
          1,
          1,
          1,
          1,
          1,
          1,
          1,
          1,
          1,
          1,
          1,
          1,
          1,
          1,
          1,
          1,
          1,
          1,
          1,
          1,
          1,
          1,
          1,
          1,
          1,
          1,
          1,
          1,
          1,
          1,
          1,
          1,
          1,
          1,
          1,
          1,
          1,
          1,
          1,
          1,
          1,
          1,
          1,
          1,
          1,
          1,
          1,
          1,
          1,
          1,
          1,
          1,
          1,
          1,
          1,
          1,
          1,
          1,
          1,
          1,
          1,
          1,
          1,
          1,
          1,
          1,
          1,
          1,
          1,
          1,
          1,
          1,
          1,
          1,
          1,
          1,
          1,
          1,
          1,
          1,
          1,
          1,
          1,
          1,
          1,
          1,
          1,
          1,
          1,
          1,
          1,
          1,
          1,
          1,
          1,
          1,
          1,
          1,
          1,
          1,
          1,
          1,
          1,
          1,
          1,
          2,
          1,
          1,
          1,
          1,
          1,
          1,
          1,
          1,
          1,
          1,
          1,
          1,
          1,
          1,
          1,
          1,
          1,
          1,
          1,
          1,
          1,
          1,
          1,
          1,
          1,
          1,
          1,
          1,
          1,
          1,
          1,
          1,
          1,
          1,
          1,
          1,
          1,
          1,
          1,
          1,
          1,
          1,
          1,
          1,
          1,
          1,
          1,
          1,
          1,
          1,
          1,
          1,
          1,
          1,
          1,
          1,
          1,
          1,
          1,
          1,
          1,
          1,
          1,
          1,
          1,
          1,
          1,
          1,
          1,
          1,
          1,
          1,
          1,
          1,
          1,
          1,
          1,
          1,
          1,
          1,
          1,
          1,
          1,
          1,
          1,
          1,
          1,
          1,
          1,
          1,
          1,
          1,
          1,
          1,
          1,
          1,
          1,
          1,
          1,
          1,
          1,
          1,
          2,
          1,
          1,
          1,
          1,
          1,
          1,
          1,
          1,
          1,
          1,
          1,
          1,
          1,
          1,
          1,
          1,
          1,
          1,
          1,
          1,
          1,
          1
         ],
         "xaxis": "x",
         "yaxis": "y"
        }
       ],
       "layout": {
        "barmode": "relative",
        "legend": {
         "tracegroupgap": 0
        },
        "template": {
         "data": {
          "bar": [
           {
            "error_x": {
             "color": "#2a3f5f"
            },
            "error_y": {
             "color": "#2a3f5f"
            },
            "marker": {
             "line": {
              "color": "#E5ECF6",
              "width": 0.5
             },
             "pattern": {
              "fillmode": "overlay",
              "size": 10,
              "solidity": 0.2
             }
            },
            "type": "bar"
           }
          ],
          "barpolar": [
           {
            "marker": {
             "line": {
              "color": "#E5ECF6",
              "width": 0.5
             },
             "pattern": {
              "fillmode": "overlay",
              "size": 10,
              "solidity": 0.2
             }
            },
            "type": "barpolar"
           }
          ],
          "carpet": [
           {
            "aaxis": {
             "endlinecolor": "#2a3f5f",
             "gridcolor": "white",
             "linecolor": "white",
             "minorgridcolor": "white",
             "startlinecolor": "#2a3f5f"
            },
            "baxis": {
             "endlinecolor": "#2a3f5f",
             "gridcolor": "white",
             "linecolor": "white",
             "minorgridcolor": "white",
             "startlinecolor": "#2a3f5f"
            },
            "type": "carpet"
           }
          ],
          "choropleth": [
           {
            "colorbar": {
             "outlinewidth": 0,
             "ticks": ""
            },
            "type": "choropleth"
           }
          ],
          "contour": [
           {
            "colorbar": {
             "outlinewidth": 0,
             "ticks": ""
            },
            "colorscale": [
             [
              0,
              "#0d0887"
             ],
             [
              0.1111111111111111,
              "#46039f"
             ],
             [
              0.2222222222222222,
              "#7201a8"
             ],
             [
              0.3333333333333333,
              "#9c179e"
             ],
             [
              0.4444444444444444,
              "#bd3786"
             ],
             [
              0.5555555555555556,
              "#d8576b"
             ],
             [
              0.6666666666666666,
              "#ed7953"
             ],
             [
              0.7777777777777778,
              "#fb9f3a"
             ],
             [
              0.8888888888888888,
              "#fdca26"
             ],
             [
              1,
              "#f0f921"
             ]
            ],
            "type": "contour"
           }
          ],
          "contourcarpet": [
           {
            "colorbar": {
             "outlinewidth": 0,
             "ticks": ""
            },
            "type": "contourcarpet"
           }
          ],
          "heatmap": [
           {
            "colorbar": {
             "outlinewidth": 0,
             "ticks": ""
            },
            "colorscale": [
             [
              0,
              "#0d0887"
             ],
             [
              0.1111111111111111,
              "#46039f"
             ],
             [
              0.2222222222222222,
              "#7201a8"
             ],
             [
              0.3333333333333333,
              "#9c179e"
             ],
             [
              0.4444444444444444,
              "#bd3786"
             ],
             [
              0.5555555555555556,
              "#d8576b"
             ],
             [
              0.6666666666666666,
              "#ed7953"
             ],
             [
              0.7777777777777778,
              "#fb9f3a"
             ],
             [
              0.8888888888888888,
              "#fdca26"
             ],
             [
              1,
              "#f0f921"
             ]
            ],
            "type": "heatmap"
           }
          ],
          "heatmapgl": [
           {
            "colorbar": {
             "outlinewidth": 0,
             "ticks": ""
            },
            "colorscale": [
             [
              0,
              "#0d0887"
             ],
             [
              0.1111111111111111,
              "#46039f"
             ],
             [
              0.2222222222222222,
              "#7201a8"
             ],
             [
              0.3333333333333333,
              "#9c179e"
             ],
             [
              0.4444444444444444,
              "#bd3786"
             ],
             [
              0.5555555555555556,
              "#d8576b"
             ],
             [
              0.6666666666666666,
              "#ed7953"
             ],
             [
              0.7777777777777778,
              "#fb9f3a"
             ],
             [
              0.8888888888888888,
              "#fdca26"
             ],
             [
              1,
              "#f0f921"
             ]
            ],
            "type": "heatmapgl"
           }
          ],
          "histogram": [
           {
            "marker": {
             "pattern": {
              "fillmode": "overlay",
              "size": 10,
              "solidity": 0.2
             }
            },
            "type": "histogram"
           }
          ],
          "histogram2d": [
           {
            "colorbar": {
             "outlinewidth": 0,
             "ticks": ""
            },
            "colorscale": [
             [
              0,
              "#0d0887"
             ],
             [
              0.1111111111111111,
              "#46039f"
             ],
             [
              0.2222222222222222,
              "#7201a8"
             ],
             [
              0.3333333333333333,
              "#9c179e"
             ],
             [
              0.4444444444444444,
              "#bd3786"
             ],
             [
              0.5555555555555556,
              "#d8576b"
             ],
             [
              0.6666666666666666,
              "#ed7953"
             ],
             [
              0.7777777777777778,
              "#fb9f3a"
             ],
             [
              0.8888888888888888,
              "#fdca26"
             ],
             [
              1,
              "#f0f921"
             ]
            ],
            "type": "histogram2d"
           }
          ],
          "histogram2dcontour": [
           {
            "colorbar": {
             "outlinewidth": 0,
             "ticks": ""
            },
            "colorscale": [
             [
              0,
              "#0d0887"
             ],
             [
              0.1111111111111111,
              "#46039f"
             ],
             [
              0.2222222222222222,
              "#7201a8"
             ],
             [
              0.3333333333333333,
              "#9c179e"
             ],
             [
              0.4444444444444444,
              "#bd3786"
             ],
             [
              0.5555555555555556,
              "#d8576b"
             ],
             [
              0.6666666666666666,
              "#ed7953"
             ],
             [
              0.7777777777777778,
              "#fb9f3a"
             ],
             [
              0.8888888888888888,
              "#fdca26"
             ],
             [
              1,
              "#f0f921"
             ]
            ],
            "type": "histogram2dcontour"
           }
          ],
          "mesh3d": [
           {
            "colorbar": {
             "outlinewidth": 0,
             "ticks": ""
            },
            "type": "mesh3d"
           }
          ],
          "parcoords": [
           {
            "line": {
             "colorbar": {
              "outlinewidth": 0,
              "ticks": ""
             }
            },
            "type": "parcoords"
           }
          ],
          "pie": [
           {
            "automargin": true,
            "type": "pie"
           }
          ],
          "scatter": [
           {
            "marker": {
             "colorbar": {
              "outlinewidth": 0,
              "ticks": ""
             }
            },
            "type": "scatter"
           }
          ],
          "scatter3d": [
           {
            "line": {
             "colorbar": {
              "outlinewidth": 0,
              "ticks": ""
             }
            },
            "marker": {
             "colorbar": {
              "outlinewidth": 0,
              "ticks": ""
             }
            },
            "type": "scatter3d"
           }
          ],
          "scattercarpet": [
           {
            "marker": {
             "colorbar": {
              "outlinewidth": 0,
              "ticks": ""
             }
            },
            "type": "scattercarpet"
           }
          ],
          "scattergeo": [
           {
            "marker": {
             "colorbar": {
              "outlinewidth": 0,
              "ticks": ""
             }
            },
            "type": "scattergeo"
           }
          ],
          "scattergl": [
           {
            "marker": {
             "colorbar": {
              "outlinewidth": 0,
              "ticks": ""
             }
            },
            "type": "scattergl"
           }
          ],
          "scattermapbox": [
           {
            "marker": {
             "colorbar": {
              "outlinewidth": 0,
              "ticks": ""
             }
            },
            "type": "scattermapbox"
           }
          ],
          "scatterpolar": [
           {
            "marker": {
             "colorbar": {
              "outlinewidth": 0,
              "ticks": ""
             }
            },
            "type": "scatterpolar"
           }
          ],
          "scatterpolargl": [
           {
            "marker": {
             "colorbar": {
              "outlinewidth": 0,
              "ticks": ""
             }
            },
            "type": "scatterpolargl"
           }
          ],
          "scatterternary": [
           {
            "marker": {
             "colorbar": {
              "outlinewidth": 0,
              "ticks": ""
             }
            },
            "type": "scatterternary"
           }
          ],
          "surface": [
           {
            "colorbar": {
             "outlinewidth": 0,
             "ticks": ""
            },
            "colorscale": [
             [
              0,
              "#0d0887"
             ],
             [
              0.1111111111111111,
              "#46039f"
             ],
             [
              0.2222222222222222,
              "#7201a8"
             ],
             [
              0.3333333333333333,
              "#9c179e"
             ],
             [
              0.4444444444444444,
              "#bd3786"
             ],
             [
              0.5555555555555556,
              "#d8576b"
             ],
             [
              0.6666666666666666,
              "#ed7953"
             ],
             [
              0.7777777777777778,
              "#fb9f3a"
             ],
             [
              0.8888888888888888,
              "#fdca26"
             ],
             [
              1,
              "#f0f921"
             ]
            ],
            "type": "surface"
           }
          ],
          "table": [
           {
            "cells": {
             "fill": {
              "color": "#EBF0F8"
             },
             "line": {
              "color": "white"
             }
            },
            "header": {
             "fill": {
              "color": "#C8D4E3"
             },
             "line": {
              "color": "white"
             }
            },
            "type": "table"
           }
          ]
         },
         "layout": {
          "annotationdefaults": {
           "arrowcolor": "#2a3f5f",
           "arrowhead": 0,
           "arrowwidth": 1
          },
          "autotypenumbers": "strict",
          "coloraxis": {
           "colorbar": {
            "outlinewidth": 0,
            "ticks": ""
           }
          },
          "colorscale": {
           "diverging": [
            [
             0,
             "#8e0152"
            ],
            [
             0.1,
             "#c51b7d"
            ],
            [
             0.2,
             "#de77ae"
            ],
            [
             0.3,
             "#f1b6da"
            ],
            [
             0.4,
             "#fde0ef"
            ],
            [
             0.5,
             "#f7f7f7"
            ],
            [
             0.6,
             "#e6f5d0"
            ],
            [
             0.7,
             "#b8e186"
            ],
            [
             0.8,
             "#7fbc41"
            ],
            [
             0.9,
             "#4d9221"
            ],
            [
             1,
             "#276419"
            ]
           ],
           "sequential": [
            [
             0,
             "#0d0887"
            ],
            [
             0.1111111111111111,
             "#46039f"
            ],
            [
             0.2222222222222222,
             "#7201a8"
            ],
            [
             0.3333333333333333,
             "#9c179e"
            ],
            [
             0.4444444444444444,
             "#bd3786"
            ],
            [
             0.5555555555555556,
             "#d8576b"
            ],
            [
             0.6666666666666666,
             "#ed7953"
            ],
            [
             0.7777777777777778,
             "#fb9f3a"
            ],
            [
             0.8888888888888888,
             "#fdca26"
            ],
            [
             1,
             "#f0f921"
            ]
           ],
           "sequentialminus": [
            [
             0,
             "#0d0887"
            ],
            [
             0.1111111111111111,
             "#46039f"
            ],
            [
             0.2222222222222222,
             "#7201a8"
            ],
            [
             0.3333333333333333,
             "#9c179e"
            ],
            [
             0.4444444444444444,
             "#bd3786"
            ],
            [
             0.5555555555555556,
             "#d8576b"
            ],
            [
             0.6666666666666666,
             "#ed7953"
            ],
            [
             0.7777777777777778,
             "#fb9f3a"
            ],
            [
             0.8888888888888888,
             "#fdca26"
            ],
            [
             1,
             "#f0f921"
            ]
           ]
          },
          "colorway": [
           "#636efa",
           "#EF553B",
           "#00cc96",
           "#ab63fa",
           "#FFA15A",
           "#19d3f3",
           "#FF6692",
           "#B6E880",
           "#FF97FF",
           "#FECB52"
          ],
          "font": {
           "color": "#2a3f5f"
          },
          "geo": {
           "bgcolor": "white",
           "lakecolor": "white",
           "landcolor": "#E5ECF6",
           "showlakes": true,
           "showland": true,
           "subunitcolor": "white"
          },
          "hoverlabel": {
           "align": "left"
          },
          "hovermode": "closest",
          "mapbox": {
           "style": "light"
          },
          "paper_bgcolor": "white",
          "plot_bgcolor": "#E5ECF6",
          "polar": {
           "angularaxis": {
            "gridcolor": "white",
            "linecolor": "white",
            "ticks": ""
           },
           "bgcolor": "#E5ECF6",
           "radialaxis": {
            "gridcolor": "white",
            "linecolor": "white",
            "ticks": ""
           }
          },
          "scene": {
           "xaxis": {
            "backgroundcolor": "#E5ECF6",
            "gridcolor": "white",
            "gridwidth": 2,
            "linecolor": "white",
            "showbackground": true,
            "ticks": "",
            "zerolinecolor": "white"
           },
           "yaxis": {
            "backgroundcolor": "#E5ECF6",
            "gridcolor": "white",
            "gridwidth": 2,
            "linecolor": "white",
            "showbackground": true,
            "ticks": "",
            "zerolinecolor": "white"
           },
           "zaxis": {
            "backgroundcolor": "#E5ECF6",
            "gridcolor": "white",
            "gridwidth": 2,
            "linecolor": "white",
            "showbackground": true,
            "ticks": "",
            "zerolinecolor": "white"
           }
          },
          "shapedefaults": {
           "line": {
            "color": "#2a3f5f"
           }
          },
          "ternary": {
           "aaxis": {
            "gridcolor": "white",
            "linecolor": "white",
            "ticks": ""
           },
           "baxis": {
            "gridcolor": "white",
            "linecolor": "white",
            "ticks": ""
           },
           "bgcolor": "#E5ECF6",
           "caxis": {
            "gridcolor": "white",
            "linecolor": "white",
            "ticks": ""
           }
          },
          "title": {
           "x": 0.05
          },
          "xaxis": {
           "automargin": true,
           "gridcolor": "white",
           "linecolor": "white",
           "ticks": "",
           "title": {
            "standoff": 15
           },
           "zerolinecolor": "white",
           "zerolinewidth": 2
          },
          "yaxis": {
           "automargin": true,
           "gridcolor": "white",
           "linecolor": "white",
           "ticks": "",
           "title": {
            "standoff": 15
           },
           "zerolinecolor": "white",
           "zerolinewidth": 2
          }
         }
        },
        "title": {
         "text": "Quantity Histogram"
        },
        "xaxis": {
         "anchor": "y",
         "domain": [
          0,
          1
         ],
         "title": {
          "text": "Quantity"
         }
        },
        "yaxis": {
         "anchor": "x",
         "domain": [
          0,
          1
         ],
         "title": {
          "text": "count"
         }
        }
       }
      }
     },
     "metadata": {},
     "output_type": "display_data"
    }
   ],
   "source": [
    "#make histogram of Quantity using plotly\n",
    "fig = px.histogram(df, x=\"Quantity\", nbins=50, title=\"Quantity Histogram\")\n",
    "\n",
    "fig.show()"
   ]
  },
  {
   "cell_type": "code",
   "execution_count": 33,
   "metadata": {},
   "outputs": [
    {
     "name": "stderr",
     "output_type": "stream",
     "text": [
      "c:\\ProgramData\\Anaconda3\\lib\\site-packages\\plotly\\io\\_renderers.py:396: DeprecationWarning:\n",
      "\n",
      "distutils Version classes are deprecated. Use packaging.version instead.\n",
      "\n",
      "c:\\ProgramData\\Anaconda3\\lib\\site-packages\\plotly\\io\\_renderers.py:396: DeprecationWarning:\n",
      "\n",
      "distutils Version classes are deprecated. Use packaging.version instead.\n",
      "\n"
     ]
    },
    {
     "data": {
      "application/vnd.plotly.v1+json": {
       "config": {
        "plotlyServerURL": "https://plot.ly"
       },
       "data": [
        {
         "alignmentgroup": "True",
         "bingroup": "x",
         "hovertemplate": "Price=%{x}<br>count=%{y}<extra></extra>",
         "legendgroup": "",
         "marker": {
          "color": "#636efa",
          "pattern": {
           "shape": ""
          }
         },
         "name": "",
         "nbinsx": 50,
         "offsetgroup": "",
         "orientation": "v",
         "showlegend": false,
         "type": "histogram",
         "x": [
          4990,
          2990,
          4990,
          5480,
          3990,
          4980,
          1990,
          2990,
          2990,
          3490,
          3200,
          5490,
          3990,
          4990,
          3990,
          5480,
          5480,
          4990,
          3990,
          3990,
          4490,
          5990,
          12990,
          7990,
          3490,
          3990,
          3990,
          2990,
          2990,
          3990,
          5990,
          5990,
          2490,
          5990,
          5480,
          2290,
          2490,
          7990,
          4980,
          2490,
          3490,
          4490,
          3490,
          4490,
          5990,
          3990,
          4990,
          3990,
          3490,
          3490,
          3490,
          2990,
          5480,
          3490,
          4490,
          4490,
          6990,
          1290,
          790,
          9990,
          4490,
          2990,
          5990,
          4990,
          4490,
          6490,
          6490,
          3990,
          6490,
          5490,
          7490,
          4490,
          5490,
          5490,
          5990,
          4490,
          7490,
          7490,
          3990,
          1290,
          990,
          7490,
          6490,
          4490,
          6990,
          5490,
          4490,
          2990,
          3990,
          5490,
          6990,
          4990,
          4490,
          3990,
          6990,
          4490,
          6990,
          4490,
          3990,
          6990,
          5990,
          6490,
          6490,
          7490,
          5490,
          3990,
          6990,
          790,
          1490,
          2490,
          5490,
          3990,
          7490,
          5990,
          5990,
          4990,
          2490,
          6990,
          4990,
          4990,
          7990,
          4990,
          4490,
          2290,
          1990,
          6490,
          7490,
          6490,
          5990,
          4990,
          5990,
          6490,
          5990,
          3990,
          4990,
          3001.4,
          5151.4,
          3861.4,
          4291.4,
          3001.4,
          5151.4,
          1969.4,
          3431.4,
          4291.4,
          5151.4,
          1892,
          1892,
          6441.4,
          3431.4,
          3861.4,
          5151.4,
          2571.4,
          4721.4,
          6441.4,
          3861.4,
          5581.4,
          5581.4,
          5151.4,
          4282.8,
          4291.4,
          1109.4,
          1109.4,
          1109.4,
          6441.4,
          3861.4,
          6441.4,
          6441.4,
          4291.4,
          5151.4,
          5151.4,
          4712.8,
          4721.4,
          4291.4,
          3861.4,
          5151.4,
          3001.4,
          3001.4,
          5151.4,
          3861.4,
          3861.4,
          3001.4,
          3861.4,
          1711.4,
          1711.4,
          2571.4,
          3001.4,
          4712.8,
          3431.4,
          6441.4,
          2571.4,
          3001.4,
          6011.4,
          4721.4,
          1892,
          3431.4,
          3431.4,
          8591.4,
          2571.4,
          2580,
          3001.4,
          5572.8,
          3861.4,
          3431.4,
          1281.4,
          4291.4,
          5151.4,
          6862.8,
          3431.4,
          3431.4,
          4291.4,
          3431.4,
          3001.4,
          4721.4,
          679.4,
          3431.4,
          5572.8,
          3861.4,
          4291.4,
          3431.4,
          2571.4,
          6871.4,
          6441.4,
          3431.4,
          3431.4,
          2141.4,
          5572.8,
          2571.4,
          2571.4,
          2571.4,
          3431.4,
          3861.4,
          2571.4,
          3861.4,
          3861.4,
          3001.4,
          7731.4,
          4291.4,
          3001.4,
          3431.4,
          6441.4,
          6441.4,
          7301.4,
          7301.4,
          3001.4,
          2408,
          3431.4,
          3001.4,
          5151.4,
          3861.4,
          7731.4,
          2571.4,
          5151.4,
          3431.4,
          2571.4,
          6441.4,
          4721.4,
          3861.4,
          3431.4,
          3431.4,
          5151.4,
          4712.8,
          4291.4,
          1892,
          4712.8,
          3001.4,
          5151.4,
          3001.4,
          5151.4,
          3001.4,
          3001.4,
          5151.4,
          7731.4,
          5572.8,
          7301.4,
          2141.4,
          4291.4,
          3431.4,
          6441.4,
          3861.4,
          3001.4,
          5572.8,
          3001.4,
          7731.4,
          3431.4,
          3001.4,
          2571.4,
          2408,
          3861.4,
          3001.4,
          4712.8,
          3431.4,
          2571.4,
          1711.4,
          4712.8,
          5151.4,
          2571.4,
          4291.4,
          5572.8,
          2571.4,
          3431.4,
          3001.4,
          5151.4,
          6441.4,
          3001.4,
          3431.4,
          6441.4,
          6441.4,
          4291.4,
          4291.4,
          4282.8,
          3431.4,
          4291.4,
          5151.4,
          3861.4,
          3431.4,
          5151.4,
          3431.4,
          4291.4,
          3001.4,
          3861.4,
          4291.4,
          8990,
          4990,
          8990,
          2408,
          1969.4,
          2829.4,
          4721.4,
          8990,
          8490,
          8490,
          8990,
          4990,
          6441.4,
          6990,
          8990,
          6990,
          8990,
          8990,
          6990,
          8990,
          6990,
          8990,
          4990,
          5490,
          6441.4,
          6990,
          6990,
          3990,
          4990,
          5490,
          3990,
          7990,
          3001.4,
          4990,
          6441.4,
          6441.4,
          3173.4,
          8490,
          6990,
          8490,
          8990,
          7990,
          8990,
          8990,
          8990,
          3490,
          8990,
          8490,
          4712.8,
          6441.4,
          6441.4,
          3001.4,
          8990,
          6990,
          6441.4,
          8990,
          4990,
          6990,
          8490,
          8990,
          3001.4,
          3990,
          5490,
          8990,
          6990,
          7990,
          4990,
          4712.8,
          3431.4,
          8990,
          3431.4,
          6990,
          6990,
          8990,
          6990,
          6990,
          6441.4,
          6441.4,
          6441.4,
          4990,
          1109.4,
          3990,
          6990,
          8490,
          5490,
          4721.4,
          3990,
          6990,
          7731.4,
          8990,
          6990,
          6990,
          3431.4,
          3990,
          3431.4,
          3001.4,
          4291.4,
          3990,
          4990,
          2571.4,
          8990,
          8990,
          2141.4,
          3001.4,
          4721.4,
          3431.4,
          6990,
          4712.8,
          3001.4,
          5572.8,
          3001.4,
          5490,
          3990,
          8990,
          5151.4,
          4291.4,
          8990,
          8990,
          1290,
          3001.4,
          1450,
          1290,
          4291.4,
          3431.4,
          4721.4,
          3001.4,
          3001.4,
          3861.4,
          4721.4,
          4712.8,
          4712.8,
          1892,
          1969.4,
          4291.4,
          3861.4,
          5151.4,
          3990,
          4291.4,
          3001.4,
          4712.8,
          3990,
          5572.8,
          3990,
          2141.4,
          6990,
          2571.4,
          3001.4,
          3861.4,
          5572.8,
          3001.4,
          8990,
          6990,
          7980,
          3431.4,
          5581.4,
          6441.4,
          3001.4,
          6990,
          8990,
          8990,
          3431.4,
          3001.4,
          3001.4,
          6441.4,
          5581.4,
          8990,
          6990,
          2580,
          2580,
          2150,
          4291.4,
          3431.4,
          6990,
          3001.4,
          8990,
          3861.4,
          3001.4,
          3001.4,
          4282.8,
          6990,
          6871.4,
          3431.4,
          2141.4,
          5151.4,
          4721.4,
          7731.4,
          6990,
          8990,
          8990,
          3431.4,
          3861.4,
          3431.4,
          2571.4,
          2141.4,
          4721.4,
          4291.4,
          3001.4,
          4291.4,
          3431.4,
          4291.4,
          2571.4,
          4721.4,
          6011.4,
          3490,
          4712.8,
          3861.4,
          3001.4,
          3990,
          4291.4,
          3431.4,
          8990,
          3990,
          3431.4,
          3431.4,
          4490,
          3490,
          5480,
          5990,
          990,
          5490,
          7990,
          4490,
          5490,
          3990,
          8990,
          1290,
          1290,
          1290,
          1450,
          8990,
          6990,
          1290,
          1290,
          4490,
          1290,
          3490,
          3490,
          1290,
          6990,
          6990,
          1290,
          790,
          6990,
          6990,
          4490,
          1290,
          4990,
          6990,
          6990,
          6990,
          1290,
          3490,
          5490,
          7490,
          5490,
          15980,
          3490,
          3490,
          5990,
          6990,
          3490,
          6990,
          8990,
          990,
          990,
          3990,
          2290,
          8990,
          3990,
          6990,
          8990,
          3490,
          6480,
          3490,
          8990,
          3990,
          4990,
          3990
         ],
         "xaxis": "x",
         "yaxis": "y"
        }
       ],
       "layout": {
        "barmode": "relative",
        "legend": {
         "tracegroupgap": 0
        },
        "template": {
         "data": {
          "bar": [
           {
            "error_x": {
             "color": "#2a3f5f"
            },
            "error_y": {
             "color": "#2a3f5f"
            },
            "marker": {
             "line": {
              "color": "#E5ECF6",
              "width": 0.5
             },
             "pattern": {
              "fillmode": "overlay",
              "size": 10,
              "solidity": 0.2
             }
            },
            "type": "bar"
           }
          ],
          "barpolar": [
           {
            "marker": {
             "line": {
              "color": "#E5ECF6",
              "width": 0.5
             },
             "pattern": {
              "fillmode": "overlay",
              "size": 10,
              "solidity": 0.2
             }
            },
            "type": "barpolar"
           }
          ],
          "carpet": [
           {
            "aaxis": {
             "endlinecolor": "#2a3f5f",
             "gridcolor": "white",
             "linecolor": "white",
             "minorgridcolor": "white",
             "startlinecolor": "#2a3f5f"
            },
            "baxis": {
             "endlinecolor": "#2a3f5f",
             "gridcolor": "white",
             "linecolor": "white",
             "minorgridcolor": "white",
             "startlinecolor": "#2a3f5f"
            },
            "type": "carpet"
           }
          ],
          "choropleth": [
           {
            "colorbar": {
             "outlinewidth": 0,
             "ticks": ""
            },
            "type": "choropleth"
           }
          ],
          "contour": [
           {
            "colorbar": {
             "outlinewidth": 0,
             "ticks": ""
            },
            "colorscale": [
             [
              0,
              "#0d0887"
             ],
             [
              0.1111111111111111,
              "#46039f"
             ],
             [
              0.2222222222222222,
              "#7201a8"
             ],
             [
              0.3333333333333333,
              "#9c179e"
             ],
             [
              0.4444444444444444,
              "#bd3786"
             ],
             [
              0.5555555555555556,
              "#d8576b"
             ],
             [
              0.6666666666666666,
              "#ed7953"
             ],
             [
              0.7777777777777778,
              "#fb9f3a"
             ],
             [
              0.8888888888888888,
              "#fdca26"
             ],
             [
              1,
              "#f0f921"
             ]
            ],
            "type": "contour"
           }
          ],
          "contourcarpet": [
           {
            "colorbar": {
             "outlinewidth": 0,
             "ticks": ""
            },
            "type": "contourcarpet"
           }
          ],
          "heatmap": [
           {
            "colorbar": {
             "outlinewidth": 0,
             "ticks": ""
            },
            "colorscale": [
             [
              0,
              "#0d0887"
             ],
             [
              0.1111111111111111,
              "#46039f"
             ],
             [
              0.2222222222222222,
              "#7201a8"
             ],
             [
              0.3333333333333333,
              "#9c179e"
             ],
             [
              0.4444444444444444,
              "#bd3786"
             ],
             [
              0.5555555555555556,
              "#d8576b"
             ],
             [
              0.6666666666666666,
              "#ed7953"
             ],
             [
              0.7777777777777778,
              "#fb9f3a"
             ],
             [
              0.8888888888888888,
              "#fdca26"
             ],
             [
              1,
              "#f0f921"
             ]
            ],
            "type": "heatmap"
           }
          ],
          "heatmapgl": [
           {
            "colorbar": {
             "outlinewidth": 0,
             "ticks": ""
            },
            "colorscale": [
             [
              0,
              "#0d0887"
             ],
             [
              0.1111111111111111,
              "#46039f"
             ],
             [
              0.2222222222222222,
              "#7201a8"
             ],
             [
              0.3333333333333333,
              "#9c179e"
             ],
             [
              0.4444444444444444,
              "#bd3786"
             ],
             [
              0.5555555555555556,
              "#d8576b"
             ],
             [
              0.6666666666666666,
              "#ed7953"
             ],
             [
              0.7777777777777778,
              "#fb9f3a"
             ],
             [
              0.8888888888888888,
              "#fdca26"
             ],
             [
              1,
              "#f0f921"
             ]
            ],
            "type": "heatmapgl"
           }
          ],
          "histogram": [
           {
            "marker": {
             "pattern": {
              "fillmode": "overlay",
              "size": 10,
              "solidity": 0.2
             }
            },
            "type": "histogram"
           }
          ],
          "histogram2d": [
           {
            "colorbar": {
             "outlinewidth": 0,
             "ticks": ""
            },
            "colorscale": [
             [
              0,
              "#0d0887"
             ],
             [
              0.1111111111111111,
              "#46039f"
             ],
             [
              0.2222222222222222,
              "#7201a8"
             ],
             [
              0.3333333333333333,
              "#9c179e"
             ],
             [
              0.4444444444444444,
              "#bd3786"
             ],
             [
              0.5555555555555556,
              "#d8576b"
             ],
             [
              0.6666666666666666,
              "#ed7953"
             ],
             [
              0.7777777777777778,
              "#fb9f3a"
             ],
             [
              0.8888888888888888,
              "#fdca26"
             ],
             [
              1,
              "#f0f921"
             ]
            ],
            "type": "histogram2d"
           }
          ],
          "histogram2dcontour": [
           {
            "colorbar": {
             "outlinewidth": 0,
             "ticks": ""
            },
            "colorscale": [
             [
              0,
              "#0d0887"
             ],
             [
              0.1111111111111111,
              "#46039f"
             ],
             [
              0.2222222222222222,
              "#7201a8"
             ],
             [
              0.3333333333333333,
              "#9c179e"
             ],
             [
              0.4444444444444444,
              "#bd3786"
             ],
             [
              0.5555555555555556,
              "#d8576b"
             ],
             [
              0.6666666666666666,
              "#ed7953"
             ],
             [
              0.7777777777777778,
              "#fb9f3a"
             ],
             [
              0.8888888888888888,
              "#fdca26"
             ],
             [
              1,
              "#f0f921"
             ]
            ],
            "type": "histogram2dcontour"
           }
          ],
          "mesh3d": [
           {
            "colorbar": {
             "outlinewidth": 0,
             "ticks": ""
            },
            "type": "mesh3d"
           }
          ],
          "parcoords": [
           {
            "line": {
             "colorbar": {
              "outlinewidth": 0,
              "ticks": ""
             }
            },
            "type": "parcoords"
           }
          ],
          "pie": [
           {
            "automargin": true,
            "type": "pie"
           }
          ],
          "scatter": [
           {
            "marker": {
             "colorbar": {
              "outlinewidth": 0,
              "ticks": ""
             }
            },
            "type": "scatter"
           }
          ],
          "scatter3d": [
           {
            "line": {
             "colorbar": {
              "outlinewidth": 0,
              "ticks": ""
             }
            },
            "marker": {
             "colorbar": {
              "outlinewidth": 0,
              "ticks": ""
             }
            },
            "type": "scatter3d"
           }
          ],
          "scattercarpet": [
           {
            "marker": {
             "colorbar": {
              "outlinewidth": 0,
              "ticks": ""
             }
            },
            "type": "scattercarpet"
           }
          ],
          "scattergeo": [
           {
            "marker": {
             "colorbar": {
              "outlinewidth": 0,
              "ticks": ""
             }
            },
            "type": "scattergeo"
           }
          ],
          "scattergl": [
           {
            "marker": {
             "colorbar": {
              "outlinewidth": 0,
              "ticks": ""
             }
            },
            "type": "scattergl"
           }
          ],
          "scattermapbox": [
           {
            "marker": {
             "colorbar": {
              "outlinewidth": 0,
              "ticks": ""
             }
            },
            "type": "scattermapbox"
           }
          ],
          "scatterpolar": [
           {
            "marker": {
             "colorbar": {
              "outlinewidth": 0,
              "ticks": ""
             }
            },
            "type": "scatterpolar"
           }
          ],
          "scatterpolargl": [
           {
            "marker": {
             "colorbar": {
              "outlinewidth": 0,
              "ticks": ""
             }
            },
            "type": "scatterpolargl"
           }
          ],
          "scatterternary": [
           {
            "marker": {
             "colorbar": {
              "outlinewidth": 0,
              "ticks": ""
             }
            },
            "type": "scatterternary"
           }
          ],
          "surface": [
           {
            "colorbar": {
             "outlinewidth": 0,
             "ticks": ""
            },
            "colorscale": [
             [
              0,
              "#0d0887"
             ],
             [
              0.1111111111111111,
              "#46039f"
             ],
             [
              0.2222222222222222,
              "#7201a8"
             ],
             [
              0.3333333333333333,
              "#9c179e"
             ],
             [
              0.4444444444444444,
              "#bd3786"
             ],
             [
              0.5555555555555556,
              "#d8576b"
             ],
             [
              0.6666666666666666,
              "#ed7953"
             ],
             [
              0.7777777777777778,
              "#fb9f3a"
             ],
             [
              0.8888888888888888,
              "#fdca26"
             ],
             [
              1,
              "#f0f921"
             ]
            ],
            "type": "surface"
           }
          ],
          "table": [
           {
            "cells": {
             "fill": {
              "color": "#EBF0F8"
             },
             "line": {
              "color": "white"
             }
            },
            "header": {
             "fill": {
              "color": "#C8D4E3"
             },
             "line": {
              "color": "white"
             }
            },
            "type": "table"
           }
          ]
         },
         "layout": {
          "annotationdefaults": {
           "arrowcolor": "#2a3f5f",
           "arrowhead": 0,
           "arrowwidth": 1
          },
          "autotypenumbers": "strict",
          "coloraxis": {
           "colorbar": {
            "outlinewidth": 0,
            "ticks": ""
           }
          },
          "colorscale": {
           "diverging": [
            [
             0,
             "#8e0152"
            ],
            [
             0.1,
             "#c51b7d"
            ],
            [
             0.2,
             "#de77ae"
            ],
            [
             0.3,
             "#f1b6da"
            ],
            [
             0.4,
             "#fde0ef"
            ],
            [
             0.5,
             "#f7f7f7"
            ],
            [
             0.6,
             "#e6f5d0"
            ],
            [
             0.7,
             "#b8e186"
            ],
            [
             0.8,
             "#7fbc41"
            ],
            [
             0.9,
             "#4d9221"
            ],
            [
             1,
             "#276419"
            ]
           ],
           "sequential": [
            [
             0,
             "#0d0887"
            ],
            [
             0.1111111111111111,
             "#46039f"
            ],
            [
             0.2222222222222222,
             "#7201a8"
            ],
            [
             0.3333333333333333,
             "#9c179e"
            ],
            [
             0.4444444444444444,
             "#bd3786"
            ],
            [
             0.5555555555555556,
             "#d8576b"
            ],
            [
             0.6666666666666666,
             "#ed7953"
            ],
            [
             0.7777777777777778,
             "#fb9f3a"
            ],
            [
             0.8888888888888888,
             "#fdca26"
            ],
            [
             1,
             "#f0f921"
            ]
           ],
           "sequentialminus": [
            [
             0,
             "#0d0887"
            ],
            [
             0.1111111111111111,
             "#46039f"
            ],
            [
             0.2222222222222222,
             "#7201a8"
            ],
            [
             0.3333333333333333,
             "#9c179e"
            ],
            [
             0.4444444444444444,
             "#bd3786"
            ],
            [
             0.5555555555555556,
             "#d8576b"
            ],
            [
             0.6666666666666666,
             "#ed7953"
            ],
            [
             0.7777777777777778,
             "#fb9f3a"
            ],
            [
             0.8888888888888888,
             "#fdca26"
            ],
            [
             1,
             "#f0f921"
            ]
           ]
          },
          "colorway": [
           "#636efa",
           "#EF553B",
           "#00cc96",
           "#ab63fa",
           "#FFA15A",
           "#19d3f3",
           "#FF6692",
           "#B6E880",
           "#FF97FF",
           "#FECB52"
          ],
          "font": {
           "color": "#2a3f5f"
          },
          "geo": {
           "bgcolor": "white",
           "lakecolor": "white",
           "landcolor": "#E5ECF6",
           "showlakes": true,
           "showland": true,
           "subunitcolor": "white"
          },
          "hoverlabel": {
           "align": "left"
          },
          "hovermode": "closest",
          "mapbox": {
           "style": "light"
          },
          "paper_bgcolor": "white",
          "plot_bgcolor": "#E5ECF6",
          "polar": {
           "angularaxis": {
            "gridcolor": "white",
            "linecolor": "white",
            "ticks": ""
           },
           "bgcolor": "#E5ECF6",
           "radialaxis": {
            "gridcolor": "white",
            "linecolor": "white",
            "ticks": ""
           }
          },
          "scene": {
           "xaxis": {
            "backgroundcolor": "#E5ECF6",
            "gridcolor": "white",
            "gridwidth": 2,
            "linecolor": "white",
            "showbackground": true,
            "ticks": "",
            "zerolinecolor": "white"
           },
           "yaxis": {
            "backgroundcolor": "#E5ECF6",
            "gridcolor": "white",
            "gridwidth": 2,
            "linecolor": "white",
            "showbackground": true,
            "ticks": "",
            "zerolinecolor": "white"
           },
           "zaxis": {
            "backgroundcolor": "#E5ECF6",
            "gridcolor": "white",
            "gridwidth": 2,
            "linecolor": "white",
            "showbackground": true,
            "ticks": "",
            "zerolinecolor": "white"
           }
          },
          "shapedefaults": {
           "line": {
            "color": "#2a3f5f"
           }
          },
          "ternary": {
           "aaxis": {
            "gridcolor": "white",
            "linecolor": "white",
            "ticks": ""
           },
           "baxis": {
            "gridcolor": "white",
            "linecolor": "white",
            "ticks": ""
           },
           "bgcolor": "#E5ECF6",
           "caxis": {
            "gridcolor": "white",
            "linecolor": "white",
            "ticks": ""
           }
          },
          "title": {
           "x": 0.05
          },
          "xaxis": {
           "automargin": true,
           "gridcolor": "white",
           "linecolor": "white",
           "ticks": "",
           "title": {
            "standoff": 15
           },
           "zerolinecolor": "white",
           "zerolinewidth": 2
          },
          "yaxis": {
           "automargin": true,
           "gridcolor": "white",
           "linecolor": "white",
           "ticks": "",
           "title": {
            "standoff": 15
           },
           "zerolinecolor": "white",
           "zerolinewidth": 2
          }
         }
        },
        "title": {
         "text": "Price Histogram"
        },
        "xaxis": {
         "anchor": "y",
         "domain": [
          0,
          1
         ],
         "title": {
          "text": "Price"
         }
        },
        "yaxis": {
         "anchor": "x",
         "domain": [
          0,
          1
         ],
         "title": {
          "text": "count"
         }
        }
       }
      }
     },
     "metadata": {},
     "output_type": "display_data"
    }
   ],
   "source": [
    "#make histogram of Price\n",
    "fig = px.histogram(df, x=\"Price\", nbins=50, title=\"Price Histogram\")\n",
    "fig.show()"
   ]
  },
  {
   "attachments": {},
   "cell_type": "markdown",
   "metadata": {},
   "source": [
    "# Popular Products by Brand"
   ]
  },
  {
   "attachments": {},
   "cell_type": "markdown",
   "metadata": {},
   "source": [
    "**Number of each type of Product sold by Brand**"
   ]
  },
  {
   "cell_type": "code",
   "execution_count": 34,
   "metadata": {},
   "outputs": [
    {
     "data": {
      "text/plain": [
       "Kurta               288\n",
       "Kurtas              111\n",
       "Unstitched           39\n",
       "Unstitched Kurta     34\n",
       "Girls                24\n",
       "Duppatta             22\n",
       "Shalwar              18\n",
       "Bag                  17\n",
       "Bags                 14\n",
       "Top                   6\n",
       "Dupatta               5\n",
       "Classic/Kurta         4\n",
       "Tea Cosy              3\n",
       "Blanket               2\n",
       "Jackets               2\n",
       "Runner                2\n",
       "Sweater               2\n",
       "Bed Cover             1\n",
       "Mat Set               1\n",
       "Boys                  1\n",
       "Dining Sheet          1\n",
       "Jacket and Pant       1\n",
       "Stole                 1\n",
       "Name: Type, dtype: int64"
      ]
     },
     "execution_count": 34,
     "metadata": {},
     "output_type": "execute_result"
    }
   ],
   "source": [
    "#popularity of each product\n",
    "df['Type'].value_counts()"
   ]
  },
  {
   "attachments": {},
   "cell_type": "markdown",
   "metadata": {},
   "source": [
    "**Revenue Brand Get From each Type of Product**"
   ]
  },
  {
   "cell_type": "code",
   "execution_count": 35,
   "metadata": {},
   "outputs": [
    {
     "data": {
      "text/plain": [
       "Type\n",
       "Kurta               1224276.6\n",
       "Kurtas               796870.0\n",
       "Unstitched           258398.0\n",
       "Unstitched Kurta     210808.0\n",
       "Duppatta             111374.0\n",
       "Shalwar               66468.2\n",
       "Girls                 53157.2\n",
       "Bag                   26621.8\n",
       "Dupatta               20715.6\n",
       "Top                   20021.4\n",
       "Bags                  18380.0\n",
       "Classic/Kurta         17982.8\n",
       "Dining Sheet          12990.0\n",
       "Jackets               10980.0\n",
       "Bed Cover              8591.4\n",
       "Runner                 5561.4\n",
       "Sweater                5160.0\n",
       "Boys                   4980.0\n",
       "Blanket                4730.0\n",
       "Jacket and Pant        4282.8\n",
       "Tea Cosy               3761.4\n",
       "Stole                  3431.4\n",
       "Mat Set                2141.4\n",
       "Name: Price, dtype: float64"
      ]
     },
     "execution_count": 35,
     "metadata": {},
     "output_type": "execute_result"
    }
   ],
   "source": [
    "#identiy the most popular product based on the revenue\n",
    "df.groupby('Type')['Price'].sum().sort_values(ascending=False)"
   ]
  },
  {
   "cell_type": "code",
   "execution_count": 36,
   "metadata": {},
   "outputs": [
    {
     "name": "stderr",
     "output_type": "stream",
     "text": [
      "c:\\ProgramData\\Anaconda3\\lib\\site-packages\\plotly\\io\\_renderers.py:396: DeprecationWarning:\n",
      "\n",
      "distutils Version classes are deprecated. Use packaging.version instead.\n",
      "\n",
      "c:\\ProgramData\\Anaconda3\\lib\\site-packages\\plotly\\io\\_renderers.py:396: DeprecationWarning:\n",
      "\n",
      "distutils Version classes are deprecated. Use packaging.version instead.\n",
      "\n"
     ]
    },
    {
     "data": {
      "application/vnd.plotly.v1+json": {
       "config": {
        "plotlyServerURL": "https://plot.ly"
       },
       "data": [
        {
         "alignmentgroup": "True",
         "hovertemplate": "Type=%{x}<br>Price=%{y}<extra></extra>",
         "legendgroup": "",
         "marker": {
          "color": "#636efa",
          "pattern": {
           "shape": ""
          }
         },
         "name": "",
         "offsetgroup": "",
         "orientation": "v",
         "showlegend": false,
         "textposition": "auto",
         "type": "bar",
         "x": [
          "Kurta",
          "Kurtas",
          "Unstitched",
          "Unstitched Kurta",
          "Duppatta",
          "Shalwar",
          "Girls",
          "Bag",
          "Dupatta",
          "Top",
          "Bags",
          "Classic/Kurta",
          "Dining Sheet",
          "Jackets",
          "Bed Cover",
          "Runner",
          "Sweater",
          "Boys",
          "Blanket",
          "Jacket and Pant",
          "Tea Cosy",
          "Stole",
          "Mat Set"
         ],
         "xaxis": "x",
         "y": [
          1224276.6,
          796870,
          258398,
          210808,
          111374,
          66468.2,
          53157.2,
          26621.8,
          20715.6,
          20021.4,
          18380,
          17982.8,
          12990,
          10980,
          8591.4,
          5561.4,
          5160,
          4980,
          4730,
          4282.8,
          3761.4,
          3431.4,
          2141.4
         ],
         "yaxis": "y"
        }
       ],
       "layout": {
        "barmode": "relative",
        "legend": {
         "tracegroupgap": 0
        },
        "template": {
         "data": {
          "bar": [
           {
            "error_x": {
             "color": "#2a3f5f"
            },
            "error_y": {
             "color": "#2a3f5f"
            },
            "marker": {
             "line": {
              "color": "#E5ECF6",
              "width": 0.5
             },
             "pattern": {
              "fillmode": "overlay",
              "size": 10,
              "solidity": 0.2
             }
            },
            "type": "bar"
           }
          ],
          "barpolar": [
           {
            "marker": {
             "line": {
              "color": "#E5ECF6",
              "width": 0.5
             },
             "pattern": {
              "fillmode": "overlay",
              "size": 10,
              "solidity": 0.2
             }
            },
            "type": "barpolar"
           }
          ],
          "carpet": [
           {
            "aaxis": {
             "endlinecolor": "#2a3f5f",
             "gridcolor": "white",
             "linecolor": "white",
             "minorgridcolor": "white",
             "startlinecolor": "#2a3f5f"
            },
            "baxis": {
             "endlinecolor": "#2a3f5f",
             "gridcolor": "white",
             "linecolor": "white",
             "minorgridcolor": "white",
             "startlinecolor": "#2a3f5f"
            },
            "type": "carpet"
           }
          ],
          "choropleth": [
           {
            "colorbar": {
             "outlinewidth": 0,
             "ticks": ""
            },
            "type": "choropleth"
           }
          ],
          "contour": [
           {
            "colorbar": {
             "outlinewidth": 0,
             "ticks": ""
            },
            "colorscale": [
             [
              0,
              "#0d0887"
             ],
             [
              0.1111111111111111,
              "#46039f"
             ],
             [
              0.2222222222222222,
              "#7201a8"
             ],
             [
              0.3333333333333333,
              "#9c179e"
             ],
             [
              0.4444444444444444,
              "#bd3786"
             ],
             [
              0.5555555555555556,
              "#d8576b"
             ],
             [
              0.6666666666666666,
              "#ed7953"
             ],
             [
              0.7777777777777778,
              "#fb9f3a"
             ],
             [
              0.8888888888888888,
              "#fdca26"
             ],
             [
              1,
              "#f0f921"
             ]
            ],
            "type": "contour"
           }
          ],
          "contourcarpet": [
           {
            "colorbar": {
             "outlinewidth": 0,
             "ticks": ""
            },
            "type": "contourcarpet"
           }
          ],
          "heatmap": [
           {
            "colorbar": {
             "outlinewidth": 0,
             "ticks": ""
            },
            "colorscale": [
             [
              0,
              "#0d0887"
             ],
             [
              0.1111111111111111,
              "#46039f"
             ],
             [
              0.2222222222222222,
              "#7201a8"
             ],
             [
              0.3333333333333333,
              "#9c179e"
             ],
             [
              0.4444444444444444,
              "#bd3786"
             ],
             [
              0.5555555555555556,
              "#d8576b"
             ],
             [
              0.6666666666666666,
              "#ed7953"
             ],
             [
              0.7777777777777778,
              "#fb9f3a"
             ],
             [
              0.8888888888888888,
              "#fdca26"
             ],
             [
              1,
              "#f0f921"
             ]
            ],
            "type": "heatmap"
           }
          ],
          "heatmapgl": [
           {
            "colorbar": {
             "outlinewidth": 0,
             "ticks": ""
            },
            "colorscale": [
             [
              0,
              "#0d0887"
             ],
             [
              0.1111111111111111,
              "#46039f"
             ],
             [
              0.2222222222222222,
              "#7201a8"
             ],
             [
              0.3333333333333333,
              "#9c179e"
             ],
             [
              0.4444444444444444,
              "#bd3786"
             ],
             [
              0.5555555555555556,
              "#d8576b"
             ],
             [
              0.6666666666666666,
              "#ed7953"
             ],
             [
              0.7777777777777778,
              "#fb9f3a"
             ],
             [
              0.8888888888888888,
              "#fdca26"
             ],
             [
              1,
              "#f0f921"
             ]
            ],
            "type": "heatmapgl"
           }
          ],
          "histogram": [
           {
            "marker": {
             "pattern": {
              "fillmode": "overlay",
              "size": 10,
              "solidity": 0.2
             }
            },
            "type": "histogram"
           }
          ],
          "histogram2d": [
           {
            "colorbar": {
             "outlinewidth": 0,
             "ticks": ""
            },
            "colorscale": [
             [
              0,
              "#0d0887"
             ],
             [
              0.1111111111111111,
              "#46039f"
             ],
             [
              0.2222222222222222,
              "#7201a8"
             ],
             [
              0.3333333333333333,
              "#9c179e"
             ],
             [
              0.4444444444444444,
              "#bd3786"
             ],
             [
              0.5555555555555556,
              "#d8576b"
             ],
             [
              0.6666666666666666,
              "#ed7953"
             ],
             [
              0.7777777777777778,
              "#fb9f3a"
             ],
             [
              0.8888888888888888,
              "#fdca26"
             ],
             [
              1,
              "#f0f921"
             ]
            ],
            "type": "histogram2d"
           }
          ],
          "histogram2dcontour": [
           {
            "colorbar": {
             "outlinewidth": 0,
             "ticks": ""
            },
            "colorscale": [
             [
              0,
              "#0d0887"
             ],
             [
              0.1111111111111111,
              "#46039f"
             ],
             [
              0.2222222222222222,
              "#7201a8"
             ],
             [
              0.3333333333333333,
              "#9c179e"
             ],
             [
              0.4444444444444444,
              "#bd3786"
             ],
             [
              0.5555555555555556,
              "#d8576b"
             ],
             [
              0.6666666666666666,
              "#ed7953"
             ],
             [
              0.7777777777777778,
              "#fb9f3a"
             ],
             [
              0.8888888888888888,
              "#fdca26"
             ],
             [
              1,
              "#f0f921"
             ]
            ],
            "type": "histogram2dcontour"
           }
          ],
          "mesh3d": [
           {
            "colorbar": {
             "outlinewidth": 0,
             "ticks": ""
            },
            "type": "mesh3d"
           }
          ],
          "parcoords": [
           {
            "line": {
             "colorbar": {
              "outlinewidth": 0,
              "ticks": ""
             }
            },
            "type": "parcoords"
           }
          ],
          "pie": [
           {
            "automargin": true,
            "type": "pie"
           }
          ],
          "scatter": [
           {
            "marker": {
             "colorbar": {
              "outlinewidth": 0,
              "ticks": ""
             }
            },
            "type": "scatter"
           }
          ],
          "scatter3d": [
           {
            "line": {
             "colorbar": {
              "outlinewidth": 0,
              "ticks": ""
             }
            },
            "marker": {
             "colorbar": {
              "outlinewidth": 0,
              "ticks": ""
             }
            },
            "type": "scatter3d"
           }
          ],
          "scattercarpet": [
           {
            "marker": {
             "colorbar": {
              "outlinewidth": 0,
              "ticks": ""
             }
            },
            "type": "scattercarpet"
           }
          ],
          "scattergeo": [
           {
            "marker": {
             "colorbar": {
              "outlinewidth": 0,
              "ticks": ""
             }
            },
            "type": "scattergeo"
           }
          ],
          "scattergl": [
           {
            "marker": {
             "colorbar": {
              "outlinewidth": 0,
              "ticks": ""
             }
            },
            "type": "scattergl"
           }
          ],
          "scattermapbox": [
           {
            "marker": {
             "colorbar": {
              "outlinewidth": 0,
              "ticks": ""
             }
            },
            "type": "scattermapbox"
           }
          ],
          "scatterpolar": [
           {
            "marker": {
             "colorbar": {
              "outlinewidth": 0,
              "ticks": ""
             }
            },
            "type": "scatterpolar"
           }
          ],
          "scatterpolargl": [
           {
            "marker": {
             "colorbar": {
              "outlinewidth": 0,
              "ticks": ""
             }
            },
            "type": "scatterpolargl"
           }
          ],
          "scatterternary": [
           {
            "marker": {
             "colorbar": {
              "outlinewidth": 0,
              "ticks": ""
             }
            },
            "type": "scatterternary"
           }
          ],
          "surface": [
           {
            "colorbar": {
             "outlinewidth": 0,
             "ticks": ""
            },
            "colorscale": [
             [
              0,
              "#0d0887"
             ],
             [
              0.1111111111111111,
              "#46039f"
             ],
             [
              0.2222222222222222,
              "#7201a8"
             ],
             [
              0.3333333333333333,
              "#9c179e"
             ],
             [
              0.4444444444444444,
              "#bd3786"
             ],
             [
              0.5555555555555556,
              "#d8576b"
             ],
             [
              0.6666666666666666,
              "#ed7953"
             ],
             [
              0.7777777777777778,
              "#fb9f3a"
             ],
             [
              0.8888888888888888,
              "#fdca26"
             ],
             [
              1,
              "#f0f921"
             ]
            ],
            "type": "surface"
           }
          ],
          "table": [
           {
            "cells": {
             "fill": {
              "color": "#EBF0F8"
             },
             "line": {
              "color": "white"
             }
            },
            "header": {
             "fill": {
              "color": "#C8D4E3"
             },
             "line": {
              "color": "white"
             }
            },
            "type": "table"
           }
          ]
         },
         "layout": {
          "annotationdefaults": {
           "arrowcolor": "#2a3f5f",
           "arrowhead": 0,
           "arrowwidth": 1
          },
          "autotypenumbers": "strict",
          "coloraxis": {
           "colorbar": {
            "outlinewidth": 0,
            "ticks": ""
           }
          },
          "colorscale": {
           "diverging": [
            [
             0,
             "#8e0152"
            ],
            [
             0.1,
             "#c51b7d"
            ],
            [
             0.2,
             "#de77ae"
            ],
            [
             0.3,
             "#f1b6da"
            ],
            [
             0.4,
             "#fde0ef"
            ],
            [
             0.5,
             "#f7f7f7"
            ],
            [
             0.6,
             "#e6f5d0"
            ],
            [
             0.7,
             "#b8e186"
            ],
            [
             0.8,
             "#7fbc41"
            ],
            [
             0.9,
             "#4d9221"
            ],
            [
             1,
             "#276419"
            ]
           ],
           "sequential": [
            [
             0,
             "#0d0887"
            ],
            [
             0.1111111111111111,
             "#46039f"
            ],
            [
             0.2222222222222222,
             "#7201a8"
            ],
            [
             0.3333333333333333,
             "#9c179e"
            ],
            [
             0.4444444444444444,
             "#bd3786"
            ],
            [
             0.5555555555555556,
             "#d8576b"
            ],
            [
             0.6666666666666666,
             "#ed7953"
            ],
            [
             0.7777777777777778,
             "#fb9f3a"
            ],
            [
             0.8888888888888888,
             "#fdca26"
            ],
            [
             1,
             "#f0f921"
            ]
           ],
           "sequentialminus": [
            [
             0,
             "#0d0887"
            ],
            [
             0.1111111111111111,
             "#46039f"
            ],
            [
             0.2222222222222222,
             "#7201a8"
            ],
            [
             0.3333333333333333,
             "#9c179e"
            ],
            [
             0.4444444444444444,
             "#bd3786"
            ],
            [
             0.5555555555555556,
             "#d8576b"
            ],
            [
             0.6666666666666666,
             "#ed7953"
            ],
            [
             0.7777777777777778,
             "#fb9f3a"
            ],
            [
             0.8888888888888888,
             "#fdca26"
            ],
            [
             1,
             "#f0f921"
            ]
           ]
          },
          "colorway": [
           "#636efa",
           "#EF553B",
           "#00cc96",
           "#ab63fa",
           "#FFA15A",
           "#19d3f3",
           "#FF6692",
           "#B6E880",
           "#FF97FF",
           "#FECB52"
          ],
          "font": {
           "color": "#2a3f5f"
          },
          "geo": {
           "bgcolor": "white",
           "lakecolor": "white",
           "landcolor": "#E5ECF6",
           "showlakes": true,
           "showland": true,
           "subunitcolor": "white"
          },
          "hoverlabel": {
           "align": "left"
          },
          "hovermode": "closest",
          "mapbox": {
           "style": "light"
          },
          "paper_bgcolor": "white",
          "plot_bgcolor": "#E5ECF6",
          "polar": {
           "angularaxis": {
            "gridcolor": "white",
            "linecolor": "white",
            "ticks": ""
           },
           "bgcolor": "#E5ECF6",
           "radialaxis": {
            "gridcolor": "white",
            "linecolor": "white",
            "ticks": ""
           }
          },
          "scene": {
           "xaxis": {
            "backgroundcolor": "#E5ECF6",
            "gridcolor": "white",
            "gridwidth": 2,
            "linecolor": "white",
            "showbackground": true,
            "ticks": "",
            "zerolinecolor": "white"
           },
           "yaxis": {
            "backgroundcolor": "#E5ECF6",
            "gridcolor": "white",
            "gridwidth": 2,
            "linecolor": "white",
            "showbackground": true,
            "ticks": "",
            "zerolinecolor": "white"
           },
           "zaxis": {
            "backgroundcolor": "#E5ECF6",
            "gridcolor": "white",
            "gridwidth": 2,
            "linecolor": "white",
            "showbackground": true,
            "ticks": "",
            "zerolinecolor": "white"
           }
          },
          "shapedefaults": {
           "line": {
            "color": "#2a3f5f"
           }
          },
          "ternary": {
           "aaxis": {
            "gridcolor": "white",
            "linecolor": "white",
            "ticks": ""
           },
           "baxis": {
            "gridcolor": "white",
            "linecolor": "white",
            "ticks": ""
           },
           "bgcolor": "#E5ECF6",
           "caxis": {
            "gridcolor": "white",
            "linecolor": "white",
            "ticks": ""
           }
          },
          "title": {
           "x": 0.05
          },
          "xaxis": {
           "automargin": true,
           "gridcolor": "white",
           "linecolor": "white",
           "ticks": "",
           "title": {
            "standoff": 15
           },
           "zerolinecolor": "white",
           "zerolinewidth": 2
          },
          "yaxis": {
           "automargin": true,
           "gridcolor": "white",
           "linecolor": "white",
           "ticks": "",
           "title": {
            "standoff": 15
           },
           "zerolinecolor": "white",
           "zerolinewidth": 2
          }
         }
        },
        "title": {
         "text": "Most Popular Product Based on Revenue"
        },
        "xaxis": {
         "anchor": "y",
         "domain": [
          0,
          1
         ],
         "title": {
          "text": "Type"
         }
        },
        "yaxis": {
         "anchor": "x",
         "domain": [
          0,
          1
         ],
         "title": {
          "text": "Price"
         }
        }
       }
      }
     },
     "metadata": {},
     "output_type": "display_data"
    }
   ],
   "source": [
    "# Group by product type and calculate the sum of revenue\n",
    "df_product_revenue = df.groupby('Type')['Price'].sum().reset_index()\n",
    "\n",
    "# Sort the dataframe by revenue in descending order\n",
    "df_product_revenue = df_product_revenue.sort_values('Price', ascending=False)\n",
    "\n",
    "# Plot the bar chart\n",
    "fig = px.bar(df_product_revenue, x='Type', y='Price', title='Most Popular Product Based on Revenue')\n",
    "\n",
    "# Show the plot\n",
    "fig.show()"
   ]
  },
  {
   "attachments": {},
   "cell_type": "markdown",
   "metadata": {},
   "source": [
    "# Price of each Order\n"
   ]
  },
  {
   "cell_type": "code",
   "execution_count": 37,
   "metadata": {},
   "outputs": [
    {
     "name": "stderr",
     "output_type": "stream",
     "text": [
      "c:\\ProgramData\\Anaconda3\\lib\\site-packages\\plotly\\io\\_renderers.py:396: DeprecationWarning:\n",
      "\n",
      "distutils Version classes are deprecated. Use packaging.version instead.\n",
      "\n",
      "c:\\ProgramData\\Anaconda3\\lib\\site-packages\\plotly\\io\\_renderers.py:396: DeprecationWarning:\n",
      "\n",
      "distutils Version classes are deprecated. Use packaging.version instead.\n",
      "\n"
     ]
    },
    {
     "data": {
      "application/vnd.plotly.v1+json": {
       "config": {
        "plotlyServerURL": "https://plot.ly"
       },
       "data": [
        {
         "alignmentgroup": "True",
         "hovertemplate": "Order ID=%{x}<br>Price=%{y}<extra></extra>",
         "legendgroup": "",
         "marker": {
          "color": "#636efa",
          "pattern": {
           "shape": ""
          }
         },
         "name": "",
         "offsetgroup": "",
         "orientation": "v",
         "showlegend": false,
         "textposition": "auto",
         "type": "bar",
         "x": [
          6779,
          6645,
          6537,
          6778,
          6765,
          6695,
          6770,
          6601,
          6852,
          6800,
          6754,
          6930,
          6581,
          6801,
          6730,
          6807,
          6826,
          6526,
          6829,
          6902,
          6772,
          6606,
          6620,
          6884,
          6862,
          6808,
          6708,
          6793,
          6834,
          6750,
          6916,
          6769,
          6873,
          6678,
          6836,
          6939,
          6740,
          6861,
          6854,
          6841,
          6611,
          6823,
          6738,
          6697,
          6665,
          6640,
          6712,
          6594,
          6585,
          6804,
          6579,
          6662,
          6886,
          6767,
          6549,
          6559,
          6885,
          6633,
          6806,
          6855,
          6567,
          6875,
          6593,
          6635,
          6652,
          6796,
          6792,
          6893,
          6905,
          6909,
          6752,
          6818,
          6788,
          6784,
          6878,
          6781,
          6777,
          6868,
          6766,
          6764,
          6857,
          6856,
          6762,
          6758,
          6755,
          6879,
          6817,
          6936,
          6945,
          6941,
          6927,
          6533,
          6623,
          6532,
          6824,
          6888,
          6757,
          6774,
          6787,
          6776,
          6756,
          6805,
          6676,
          6628,
          6795,
          6538,
          6613,
          6552,
          6548,
          6699,
          6725,
          6714,
          6876,
          6692,
          6732,
          6685,
          6584,
          6928,
          6618,
          6577,
          6568,
          6811,
          6863,
          6716,
          6688,
          6669,
          6705,
          6693,
          6866,
          6596,
          6925,
          6923,
          6586,
          6924,
          6592,
          6763,
          6846,
          6599,
          6809,
          6799,
          6798,
          6910,
          6940,
          6786,
          6782,
          6775,
          6918,
          6603,
          6935,
          6919,
          6933,
          6877,
          6761,
          6565,
          6543,
          6681,
          6672,
          6673,
          6573,
          6617,
          6619,
          6621,
          6575,
          6572,
          6943,
          6638,
          6720,
          6660,
          6760,
          6703,
          6768,
          6682,
          6783,
          6689,
          6739,
          6938,
          6651,
          6702,
          6900,
          6544,
          6545,
          6622,
          6555,
          6569,
          6600,
          6547,
          6607,
          6580,
          6932,
          6608,
          6530,
          6843,
          6850,
          6657,
          6723,
          6734,
          6715,
          6668,
          6874,
          6661,
          6670,
          6576,
          6903,
          6791,
          6591,
          6929,
          6587,
          6899,
          6561,
          6535,
          6536,
          6663,
          6707,
          6650,
          6713,
          6710,
          6671,
          6827,
          6641,
          6839,
          6632,
          6746,
          6701,
          6749,
          6625,
          6686,
          6794,
          6557,
          6922,
          6609,
          6947,
          6815,
          6753,
          6785,
          6802,
          6759,
          6612,
          6614,
          6570,
          6528,
          6550,
          6913,
          6637,
          6821,
          6704,
          6835,
          6647,
          6883,
          6658,
          6646,
          6731,
          6615,
          6912,
          6564,
          6578,
          6571,
          6563,
          6920,
          6554,
          6588,
          6897,
          6597,
          6595,
          6733,
          6813,
          6741,
          6742,
          6891,
          6745,
          6718,
          6837,
          6832,
          6828,
          6751,
          6627,
          6648,
          6643,
          6830,
          6631,
          6864,
          6674,
          6872,
          6642,
          6743,
          6616,
          6946,
          6894,
          6844,
          6840,
          6904,
          6890,
          6842,
          6948,
          6602,
          6527,
          6556,
          6558,
          6574,
          6582,
          6590,
          6541,
          6540,
          6598,
          6790,
          6534,
          6814,
          6721,
          6690,
          6626,
          6653,
          6849,
          6869,
          6639,
          6698,
          6649,
          6838,
          6747,
          6655,
          6881,
          6934,
          6898,
          6539,
          6944,
          6942,
          6531,
          6887,
          6553,
          6562,
          6931,
          6914,
          6694,
          6892,
          6679,
          6896,
          6895,
          6880,
          6677,
          6683,
          6882,
          6684,
          6675,
          6664,
          6810,
          6833,
          6748,
          6744,
          6736,
          6865,
          6726,
          6853,
          6659,
          6719,
          6858,
          6822,
          6630,
          6634,
          6706,
          6797,
          6656,
          6644,
          6773,
          6624,
          6654,
          6737,
          6889,
          6709,
          6812,
          6825,
          6789,
          6780,
          6771,
          6727,
          6848,
          6851,
          6724,
          6859,
          6860,
          6711,
          6722,
          6871,
          6667,
          6820,
          6870,
          6691,
          6867,
          6589,
          6560,
          6542,
          6908,
          6831,
          6666,
          6911,
          6636,
          6728,
          6735,
          6680,
          6816,
          6687,
          6847,
          6700,
          6605,
          6610,
          6546,
          6551,
          6696,
          6729,
          6583,
          6604,
          6717,
          6819,
          6845,
          6917,
          6566,
          6529,
          6937,
          6629,
          6926,
          6915,
          6921,
          6906,
          6907,
          6803,
          6901
         ],
         "xaxis": "x",
         "y": [
          38565.6,
          37779.799999999996,
          36440,
          34960,
          31960,
          30487,
          26450,
          25960,
          23960,
          22970,
          20918.2,
          19470,
          19470,
          19324.199999999997,
          19289.8,
          18711.4,
          18470,
          18450,
          17980,
          17970,
          17872.8,
          16970,
          16970,
          16305.599999999999,
          15980,
          15980,
          15609,
          14980,
          14585.6,
          14585.599999999999,
          13980,
          13980,
          13861.4,
          13725.6,
          13287,
          12980,
          12882.8,
          12022.8,
          12022.8,
          12005.6,
          11980,
          11702.8,
          11592.8,
          11584.2,
          11162.8,
          11162.8,
          11154.2,
          10980,
          10980,
          10980,
          10980,
          10732.8,
          10732.8,
          10480,
          10480,
          10470,
          10294.199999999999,
          10225.4,
          10211.4,
          9991.4,
          9990,
          9872.8,
          9480,
          9012.8,
          9012.8,
          8990,
          8990,
          8990,
          8990,
          8990,
          8990,
          8990,
          8990,
          8990,
          8990,
          8990,
          8990,
          8990,
          8990,
          8990,
          8990,
          8990,
          8990,
          8990,
          8990,
          8990,
          8990,
          8990,
          8990,
          8990,
          8980,
          8980,
          8980,
          8690,
          8574.2,
          8574.2,
          8490,
          8490,
          8490,
          8490,
          8490,
          8490,
          8402.199999999999,
          8152.799999999999,
          8144.200000000001,
          7990,
          7990,
          7980,
          7770,
          7731.4,
          7731.4,
          7731.4,
          7731.4,
          7731.4,
          7722.799999999999,
          7714.200000000001,
          7490,
          7490,
          7490,
          7490,
          7480,
          7421.4,
          7310,
          7301.4,
          7292.8,
          7292.8,
          7292.8,
          7292.799999999999,
          6990,
          6990,
          6990,
          6990,
          6990,
          6990,
          6990,
          6990,
          6990,
          6990,
          6990,
          6990,
          6990,
          6990,
          6990,
          6990,
          6990,
          6990,
          6990,
          6990,
          6990,
          6990,
          6990,
          6990,
          6990,
          6990,
          6980,
          6871.4,
          6862.8,
          6862.8,
          6490,
          6490,
          6490,
          6490,
          6490,
          6490,
          6480,
          6441.4,
          6441.4,
          6441.4,
          6441.4,
          6441.4,
          6441.4,
          6441.4,
          6441.4,
          6432.8,
          6432.8,
          6280,
          6002.8,
          6002.8,
          5990,
          5990,
          5990,
          5990,
          5990,
          5990,
          5990,
          5990,
          5990,
          5990,
          5990,
          5990,
          5980,
          5572.8,
          5572.8,
          5572.8,
          5572.8,
          5572.8,
          5572.8,
          5572.8,
          5572.8,
          5572.8,
          5572.799999999999,
          5490,
          5490,
          5490,
          5490,
          5490,
          5490,
          5480,
          5480,
          5480,
          5480,
          5323.4,
          5151.4,
          5151.4,
          5151.4,
          5151.4,
          5151.4,
          5151.4,
          5151.4,
          5151.4,
          5151.4,
          5151.4,
          5151.4,
          5151.4,
          5151.4,
          5142.8,
          4990,
          4990,
          4990,
          4990,
          4990,
          4990,
          4990,
          4990,
          4990,
          4990,
          4990,
          4990,
          4990,
          4980,
          4980,
          4780,
          4721.4,
          4721.4,
          4721.4,
          4721.4,
          4721.4,
          4712.8,
          4712.8,
          4712.8,
          4712.8,
          4490,
          4490,
          4490,
          4490,
          4490,
          4490,
          4490,
          4490,
          4490,
          4490,
          4490,
          4490,
          4291.4,
          4291.4,
          4291.4,
          4291.4,
          4291.4,
          4291.4,
          4291.4,
          4291.4,
          4291.4,
          4291.4,
          4291.4,
          4291.4,
          4291.4,
          4291.4,
          4291.4,
          4291.4,
          4291.4,
          4291.4,
          4282.8,
          4282.8,
          4282.8,
          4280,
          3990,
          3990,
          3990,
          3990,
          3990,
          3990,
          3990,
          3990,
          3990,
          3990,
          3990,
          3990,
          3990,
          3990,
          3990,
          3990,
          3990,
          3990,
          3990,
          3990,
          3990,
          3861.4,
          3861.4,
          3861.4,
          3861.4,
          3861.4,
          3861.4,
          3861.4,
          3861.4,
          3861.4,
          3861.4,
          3861.4,
          3861.4,
          3861.4,
          3490,
          3490,
          3490,
          3490,
          3490,
          3490,
          3490,
          3490,
          3490,
          3490,
          3490,
          3431.4,
          3431.4,
          3431.4,
          3431.4,
          3431.4,
          3431.4,
          3431.4,
          3431.4,
          3431.4,
          3431.4,
          3431.4,
          3431.4,
          3431.4,
          3431.4,
          3431.4,
          3431.4,
          3431.4,
          3431.4,
          3431.4,
          3431.4,
          3431.4,
          3431.4,
          3431.4,
          3431.4,
          3431.4,
          3431.4,
          3431.4,
          3431.4,
          3422.8,
          3328.2000000000003,
          3173.4,
          3001.4,
          3001.4,
          3001.4,
          3001.4,
          3001.4,
          3001.4,
          3001.4,
          3001.4,
          3001.4,
          3001.4,
          3001.4,
          3001.4,
          3001.4,
          3001.4,
          3001.4,
          3001.4,
          3001.4,
          3001.4,
          3001.4,
          3001.4,
          3001.4,
          3001.4,
          3001.4,
          3001.4,
          2990,
          2990,
          2990,
          2740,
          2740,
          2580,
          2580,
          2571.4,
          2571.4,
          2571.4,
          2571.4,
          2571.4,
          2571.4,
          2571.4,
          2571.4,
          2490,
          2490,
          2490,
          2490,
          2408,
          2408,
          2280,
          2280,
          2141.4,
          2141.4,
          2141.4,
          2080,
          2080,
          1990,
          1980,
          1969.4,
          1290,
          1290,
          1290,
          1290,
          1290,
          1109.4,
          990
         ],
         "yaxis": "y"
        }
       ],
       "layout": {
        "barmode": "relative",
        "legend": {
         "tracegroupgap": 0
        },
        "template": {
         "data": {
          "bar": [
           {
            "error_x": {
             "color": "#2a3f5f"
            },
            "error_y": {
             "color": "#2a3f5f"
            },
            "marker": {
             "line": {
              "color": "#E5ECF6",
              "width": 0.5
             },
             "pattern": {
              "fillmode": "overlay",
              "size": 10,
              "solidity": 0.2
             }
            },
            "type": "bar"
           }
          ],
          "barpolar": [
           {
            "marker": {
             "line": {
              "color": "#E5ECF6",
              "width": 0.5
             },
             "pattern": {
              "fillmode": "overlay",
              "size": 10,
              "solidity": 0.2
             }
            },
            "type": "barpolar"
           }
          ],
          "carpet": [
           {
            "aaxis": {
             "endlinecolor": "#2a3f5f",
             "gridcolor": "white",
             "linecolor": "white",
             "minorgridcolor": "white",
             "startlinecolor": "#2a3f5f"
            },
            "baxis": {
             "endlinecolor": "#2a3f5f",
             "gridcolor": "white",
             "linecolor": "white",
             "minorgridcolor": "white",
             "startlinecolor": "#2a3f5f"
            },
            "type": "carpet"
           }
          ],
          "choropleth": [
           {
            "colorbar": {
             "outlinewidth": 0,
             "ticks": ""
            },
            "type": "choropleth"
           }
          ],
          "contour": [
           {
            "colorbar": {
             "outlinewidth": 0,
             "ticks": ""
            },
            "colorscale": [
             [
              0,
              "#0d0887"
             ],
             [
              0.1111111111111111,
              "#46039f"
             ],
             [
              0.2222222222222222,
              "#7201a8"
             ],
             [
              0.3333333333333333,
              "#9c179e"
             ],
             [
              0.4444444444444444,
              "#bd3786"
             ],
             [
              0.5555555555555556,
              "#d8576b"
             ],
             [
              0.6666666666666666,
              "#ed7953"
             ],
             [
              0.7777777777777778,
              "#fb9f3a"
             ],
             [
              0.8888888888888888,
              "#fdca26"
             ],
             [
              1,
              "#f0f921"
             ]
            ],
            "type": "contour"
           }
          ],
          "contourcarpet": [
           {
            "colorbar": {
             "outlinewidth": 0,
             "ticks": ""
            },
            "type": "contourcarpet"
           }
          ],
          "heatmap": [
           {
            "colorbar": {
             "outlinewidth": 0,
             "ticks": ""
            },
            "colorscale": [
             [
              0,
              "#0d0887"
             ],
             [
              0.1111111111111111,
              "#46039f"
             ],
             [
              0.2222222222222222,
              "#7201a8"
             ],
             [
              0.3333333333333333,
              "#9c179e"
             ],
             [
              0.4444444444444444,
              "#bd3786"
             ],
             [
              0.5555555555555556,
              "#d8576b"
             ],
             [
              0.6666666666666666,
              "#ed7953"
             ],
             [
              0.7777777777777778,
              "#fb9f3a"
             ],
             [
              0.8888888888888888,
              "#fdca26"
             ],
             [
              1,
              "#f0f921"
             ]
            ],
            "type": "heatmap"
           }
          ],
          "heatmapgl": [
           {
            "colorbar": {
             "outlinewidth": 0,
             "ticks": ""
            },
            "colorscale": [
             [
              0,
              "#0d0887"
             ],
             [
              0.1111111111111111,
              "#46039f"
             ],
             [
              0.2222222222222222,
              "#7201a8"
             ],
             [
              0.3333333333333333,
              "#9c179e"
             ],
             [
              0.4444444444444444,
              "#bd3786"
             ],
             [
              0.5555555555555556,
              "#d8576b"
             ],
             [
              0.6666666666666666,
              "#ed7953"
             ],
             [
              0.7777777777777778,
              "#fb9f3a"
             ],
             [
              0.8888888888888888,
              "#fdca26"
             ],
             [
              1,
              "#f0f921"
             ]
            ],
            "type": "heatmapgl"
           }
          ],
          "histogram": [
           {
            "marker": {
             "pattern": {
              "fillmode": "overlay",
              "size": 10,
              "solidity": 0.2
             }
            },
            "type": "histogram"
           }
          ],
          "histogram2d": [
           {
            "colorbar": {
             "outlinewidth": 0,
             "ticks": ""
            },
            "colorscale": [
             [
              0,
              "#0d0887"
             ],
             [
              0.1111111111111111,
              "#46039f"
             ],
             [
              0.2222222222222222,
              "#7201a8"
             ],
             [
              0.3333333333333333,
              "#9c179e"
             ],
             [
              0.4444444444444444,
              "#bd3786"
             ],
             [
              0.5555555555555556,
              "#d8576b"
             ],
             [
              0.6666666666666666,
              "#ed7953"
             ],
             [
              0.7777777777777778,
              "#fb9f3a"
             ],
             [
              0.8888888888888888,
              "#fdca26"
             ],
             [
              1,
              "#f0f921"
             ]
            ],
            "type": "histogram2d"
           }
          ],
          "histogram2dcontour": [
           {
            "colorbar": {
             "outlinewidth": 0,
             "ticks": ""
            },
            "colorscale": [
             [
              0,
              "#0d0887"
             ],
             [
              0.1111111111111111,
              "#46039f"
             ],
             [
              0.2222222222222222,
              "#7201a8"
             ],
             [
              0.3333333333333333,
              "#9c179e"
             ],
             [
              0.4444444444444444,
              "#bd3786"
             ],
             [
              0.5555555555555556,
              "#d8576b"
             ],
             [
              0.6666666666666666,
              "#ed7953"
             ],
             [
              0.7777777777777778,
              "#fb9f3a"
             ],
             [
              0.8888888888888888,
              "#fdca26"
             ],
             [
              1,
              "#f0f921"
             ]
            ],
            "type": "histogram2dcontour"
           }
          ],
          "mesh3d": [
           {
            "colorbar": {
             "outlinewidth": 0,
             "ticks": ""
            },
            "type": "mesh3d"
           }
          ],
          "parcoords": [
           {
            "line": {
             "colorbar": {
              "outlinewidth": 0,
              "ticks": ""
             }
            },
            "type": "parcoords"
           }
          ],
          "pie": [
           {
            "automargin": true,
            "type": "pie"
           }
          ],
          "scatter": [
           {
            "marker": {
             "colorbar": {
              "outlinewidth": 0,
              "ticks": ""
             }
            },
            "type": "scatter"
           }
          ],
          "scatter3d": [
           {
            "line": {
             "colorbar": {
              "outlinewidth": 0,
              "ticks": ""
             }
            },
            "marker": {
             "colorbar": {
              "outlinewidth": 0,
              "ticks": ""
             }
            },
            "type": "scatter3d"
           }
          ],
          "scattercarpet": [
           {
            "marker": {
             "colorbar": {
              "outlinewidth": 0,
              "ticks": ""
             }
            },
            "type": "scattercarpet"
           }
          ],
          "scattergeo": [
           {
            "marker": {
             "colorbar": {
              "outlinewidth": 0,
              "ticks": ""
             }
            },
            "type": "scattergeo"
           }
          ],
          "scattergl": [
           {
            "marker": {
             "colorbar": {
              "outlinewidth": 0,
              "ticks": ""
             }
            },
            "type": "scattergl"
           }
          ],
          "scattermapbox": [
           {
            "marker": {
             "colorbar": {
              "outlinewidth": 0,
              "ticks": ""
             }
            },
            "type": "scattermapbox"
           }
          ],
          "scatterpolar": [
           {
            "marker": {
             "colorbar": {
              "outlinewidth": 0,
              "ticks": ""
             }
            },
            "type": "scatterpolar"
           }
          ],
          "scatterpolargl": [
           {
            "marker": {
             "colorbar": {
              "outlinewidth": 0,
              "ticks": ""
             }
            },
            "type": "scatterpolargl"
           }
          ],
          "scatterternary": [
           {
            "marker": {
             "colorbar": {
              "outlinewidth": 0,
              "ticks": ""
             }
            },
            "type": "scatterternary"
           }
          ],
          "surface": [
           {
            "colorbar": {
             "outlinewidth": 0,
             "ticks": ""
            },
            "colorscale": [
             [
              0,
              "#0d0887"
             ],
             [
              0.1111111111111111,
              "#46039f"
             ],
             [
              0.2222222222222222,
              "#7201a8"
             ],
             [
              0.3333333333333333,
              "#9c179e"
             ],
             [
              0.4444444444444444,
              "#bd3786"
             ],
             [
              0.5555555555555556,
              "#d8576b"
             ],
             [
              0.6666666666666666,
              "#ed7953"
             ],
             [
              0.7777777777777778,
              "#fb9f3a"
             ],
             [
              0.8888888888888888,
              "#fdca26"
             ],
             [
              1,
              "#f0f921"
             ]
            ],
            "type": "surface"
           }
          ],
          "table": [
           {
            "cells": {
             "fill": {
              "color": "#EBF0F8"
             },
             "line": {
              "color": "white"
             }
            },
            "header": {
             "fill": {
              "color": "#C8D4E3"
             },
             "line": {
              "color": "white"
             }
            },
            "type": "table"
           }
          ]
         },
         "layout": {
          "annotationdefaults": {
           "arrowcolor": "#2a3f5f",
           "arrowhead": 0,
           "arrowwidth": 1
          },
          "autotypenumbers": "strict",
          "coloraxis": {
           "colorbar": {
            "outlinewidth": 0,
            "ticks": ""
           }
          },
          "colorscale": {
           "diverging": [
            [
             0,
             "#8e0152"
            ],
            [
             0.1,
             "#c51b7d"
            ],
            [
             0.2,
             "#de77ae"
            ],
            [
             0.3,
             "#f1b6da"
            ],
            [
             0.4,
             "#fde0ef"
            ],
            [
             0.5,
             "#f7f7f7"
            ],
            [
             0.6,
             "#e6f5d0"
            ],
            [
             0.7,
             "#b8e186"
            ],
            [
             0.8,
             "#7fbc41"
            ],
            [
             0.9,
             "#4d9221"
            ],
            [
             1,
             "#276419"
            ]
           ],
           "sequential": [
            [
             0,
             "#0d0887"
            ],
            [
             0.1111111111111111,
             "#46039f"
            ],
            [
             0.2222222222222222,
             "#7201a8"
            ],
            [
             0.3333333333333333,
             "#9c179e"
            ],
            [
             0.4444444444444444,
             "#bd3786"
            ],
            [
             0.5555555555555556,
             "#d8576b"
            ],
            [
             0.6666666666666666,
             "#ed7953"
            ],
            [
             0.7777777777777778,
             "#fb9f3a"
            ],
            [
             0.8888888888888888,
             "#fdca26"
            ],
            [
             1,
             "#f0f921"
            ]
           ],
           "sequentialminus": [
            [
             0,
             "#0d0887"
            ],
            [
             0.1111111111111111,
             "#46039f"
            ],
            [
             0.2222222222222222,
             "#7201a8"
            ],
            [
             0.3333333333333333,
             "#9c179e"
            ],
            [
             0.4444444444444444,
             "#bd3786"
            ],
            [
             0.5555555555555556,
             "#d8576b"
            ],
            [
             0.6666666666666666,
             "#ed7953"
            ],
            [
             0.7777777777777778,
             "#fb9f3a"
            ],
            [
             0.8888888888888888,
             "#fdca26"
            ],
            [
             1,
             "#f0f921"
            ]
           ]
          },
          "colorway": [
           "#636efa",
           "#EF553B",
           "#00cc96",
           "#ab63fa",
           "#FFA15A",
           "#19d3f3",
           "#FF6692",
           "#B6E880",
           "#FF97FF",
           "#FECB52"
          ],
          "font": {
           "color": "#2a3f5f"
          },
          "geo": {
           "bgcolor": "white",
           "lakecolor": "white",
           "landcolor": "#E5ECF6",
           "showlakes": true,
           "showland": true,
           "subunitcolor": "white"
          },
          "hoverlabel": {
           "align": "left"
          },
          "hovermode": "closest",
          "mapbox": {
           "style": "light"
          },
          "paper_bgcolor": "white",
          "plot_bgcolor": "#E5ECF6",
          "polar": {
           "angularaxis": {
            "gridcolor": "white",
            "linecolor": "white",
            "ticks": ""
           },
           "bgcolor": "#E5ECF6",
           "radialaxis": {
            "gridcolor": "white",
            "linecolor": "white",
            "ticks": ""
           }
          },
          "scene": {
           "xaxis": {
            "backgroundcolor": "#E5ECF6",
            "gridcolor": "white",
            "gridwidth": 2,
            "linecolor": "white",
            "showbackground": true,
            "ticks": "",
            "zerolinecolor": "white"
           },
           "yaxis": {
            "backgroundcolor": "#E5ECF6",
            "gridcolor": "white",
            "gridwidth": 2,
            "linecolor": "white",
            "showbackground": true,
            "ticks": "",
            "zerolinecolor": "white"
           },
           "zaxis": {
            "backgroundcolor": "#E5ECF6",
            "gridcolor": "white",
            "gridwidth": 2,
            "linecolor": "white",
            "showbackground": true,
            "ticks": "",
            "zerolinecolor": "white"
           }
          },
          "shapedefaults": {
           "line": {
            "color": "#2a3f5f"
           }
          },
          "ternary": {
           "aaxis": {
            "gridcolor": "white",
            "linecolor": "white",
            "ticks": ""
           },
           "baxis": {
            "gridcolor": "white",
            "linecolor": "white",
            "ticks": ""
           },
           "bgcolor": "#E5ECF6",
           "caxis": {
            "gridcolor": "white",
            "linecolor": "white",
            "ticks": ""
           }
          },
          "title": {
           "x": 0.05
          },
          "xaxis": {
           "automargin": true,
           "gridcolor": "white",
           "linecolor": "white",
           "ticks": "",
           "title": {
            "standoff": 15
           },
           "zerolinecolor": "white",
           "zerolinewidth": 2
          },
          "yaxis": {
           "automargin": true,
           "gridcolor": "white",
           "linecolor": "white",
           "ticks": "",
           "title": {
            "standoff": 15
           },
           "zerolinecolor": "white",
           "zerolinewidth": 2
          }
         }
        },
        "title": {
         "text": "Revenue by Order ID"
        },
        "xaxis": {
         "anchor": "y",
         "domain": [
          0,
          1
         ],
         "title": {
          "text": "Order ID"
         }
        },
        "yaxis": {
         "anchor": "x",
         "domain": [
          0,
          1
         ],
         "title": {
          "text": "Price"
         }
        }
       }
      }
     },
     "metadata": {},
     "output_type": "display_data"
    }
   ],
   "source": [
    "# Group by order_id and calculate the sum of revenue\n",
    "\n",
    "df_order_revenue = df.groupby('Order ID')['Price'].sum().reset_index()\n",
    "\n",
    "# Sort the dataframe by revenue in descending order\n",
    "\n",
    "df_order_revenue = df_order_revenue.sort_values('Price', ascending=False)\n",
    "\n",
    "# Plot the bar chart\n",
    "\n",
    "fig = px.bar(df_order_revenue, x='Order ID', y='Price', title='Revenue by Order ID')\n",
    "\n",
    "# Show the plot\n",
    "\n",
    "fig.show()"
   ]
  },
  {
   "attachments": {},
   "cell_type": "markdown",
   "metadata": {},
   "source": [
    "# Product Bought in an Order"
   ]
  },
  {
   "cell_type": "code",
   "execution_count": 38,
   "metadata": {},
   "outputs": [],
   "source": [
    "#use order id and quatity to see that on a order id a customer has bought how many products\n",
    "df_order_quantity = df.groupby('Order ID')['Quantity'].sum().reset_index()\n",
    "\n",
    "# Sort the dataframe by quantity in descending order\n",
    "\n",
    "df_order_quantity = df_order_quantity.sort_values('Quantity', ascending=False)\n",
    "\n",
    "#now see that on a order id what are the products that a customer has bought\n",
    "df_order_product = df.groupby('Order ID')['Type'].unique().reset_index()\n"
   ]
  },
  {
   "cell_type": "code",
   "execution_count": 40,
   "metadata": {},
   "outputs": [
    {
     "name": "stderr",
     "output_type": "stream",
     "text": [
      "c:\\ProgramData\\Anaconda3\\lib\\site-packages\\plotly\\io\\_renderers.py:396: DeprecationWarning:\n",
      "\n",
      "distutils Version classes are deprecated. Use packaging.version instead.\n",
      "\n",
      "c:\\ProgramData\\Anaconda3\\lib\\site-packages\\plotly\\io\\_renderers.py:396: DeprecationWarning:\n",
      "\n",
      "distutils Version classes are deprecated. Use packaging.version instead.\n",
      "\n"
     ]
    },
    {
     "data": {
      "application/vnd.plotly.v1+json": {
       "config": {
        "plotlyServerURL": "https://plot.ly"
       },
       "data": [
        {
         "alignmentgroup": "True",
         "hovertemplate": "Type=Kurta<br>Order ID=%{x}<br>Count=%{y}<extra></extra>",
         "legendgroup": "Kurta",
         "marker": {
          "color": "#636efa",
          "pattern": {
           "shape": ""
          }
         },
         "name": "Kurta",
         "offsetgroup": "Kurta",
         "orientation": "v",
         "showlegend": true,
         "textposition": "auto",
         "type": "bar",
         "x": [
          6526,
          6527,
          6528,
          6531,
          6533,
          6534,
          6535,
          6536,
          6537,
          6538,
          6539,
          6540,
          6541,
          6542,
          6543,
          6544,
          6545,
          6546,
          6547,
          6548,
          6549,
          6551,
          6552,
          6553,
          6554,
          6555,
          6556,
          6557,
          6558,
          6559,
          6560,
          6561,
          6562,
          6563,
          6564,
          6565,
          6567,
          6568,
          6570,
          6571,
          6574,
          6578,
          6580,
          6582,
          6586,
          6588,
          6589,
          6590,
          6592,
          6593,
          6596,
          6598,
          6599,
          6600,
          6602,
          6603,
          6605,
          6608,
          6609,
          6610,
          6611,
          6612,
          6614,
          6615,
          6620,
          6622,
          6623,
          6624,
          6625,
          6626,
          6627,
          6628,
          6630,
          6631,
          6632,
          6634,
          6635,
          6636,
          6639,
          6641,
          6642,
          6643,
          6645,
          6646,
          6648,
          6650,
          6651,
          6652,
          6653,
          6654,
          6655,
          6657,
          6658,
          6659,
          6661,
          6664,
          6665,
          6667,
          6668,
          6669,
          6670,
          6671,
          6673,
          6674,
          6675,
          6676,
          6677,
          6678,
          6680,
          6681,
          6683,
          6684,
          6685,
          6686,
          6687,
          6688,
          6690,
          6691,
          6692,
          6693,
          6694,
          6697,
          6698,
          6699,
          6701,
          6704,
          6705,
          6706,
          6707,
          6708,
          6709,
          6711,
          6712,
          6713,
          6714,
          6715,
          6717,
          6718,
          6719,
          6721,
          6722,
          6723,
          6724,
          6725,
          6727,
          6728,
          6730,
          6731,
          6733,
          6734,
          6735,
          6736,
          6737,
          6739,
          6741,
          6742,
          6743,
          6744,
          6745,
          6746,
          6747,
          6748,
          6749,
          6750,
          6751,
          6754,
          6771,
          6779,
          6780,
          6789,
          6795,
          6797,
          6806,
          6807,
          6810,
          6811,
          6813,
          6816,
          6819,
          6821,
          6823,
          6824,
          6825,
          6827,
          6828,
          6832,
          6833,
          6834,
          6836,
          6837,
          6838,
          6839,
          6841,
          6843,
          6845,
          6847,
          6848,
          6849,
          6850,
          6851,
          6853,
          6855,
          6858,
          6859,
          6864,
          6867,
          6870,
          6871,
          6873,
          6874,
          6875,
          6876,
          6881,
          6882,
          6883,
          6884,
          6885,
          6888,
          6889,
          6891,
          6892,
          6895,
          6896,
          6897,
          6899,
          6902,
          6904,
          6920,
          6922,
          6927,
          6930,
          6942,
          6943,
          6946,
          6948
         ],
         "xaxis": "x",
         "y": [
          4,
          1,
          1,
          1,
          2,
          1,
          1,
          1,
          4,
          1,
          1,
          1,
          1,
          1,
          2,
          1,
          1,
          1,
          1,
          1,
          2,
          1,
          2,
          1,
          1,
          1,
          1,
          1,
          1,
          3,
          1,
          1,
          1,
          1,
          1,
          1,
          1,
          1,
          1,
          1,
          1,
          1,
          1,
          1,
          1,
          1,
          1,
          1,
          1,
          2,
          1,
          1,
          1,
          1,
          1,
          1,
          1,
          1,
          1,
          1,
          2,
          1,
          1,
          1,
          1,
          1,
          1,
          1,
          1,
          1,
          1,
          2,
          1,
          1,
          1,
          1,
          2,
          1,
          1,
          1,
          1,
          1,
          3,
          1,
          1,
          1,
          1,
          1,
          1,
          1,
          1,
          2,
          1,
          1,
          2,
          1,
          1,
          1,
          1,
          2,
          1,
          1,
          2,
          1,
          1,
          1,
          1,
          3,
          1,
          1,
          1,
          1,
          1,
          2,
          1,
          2,
          1,
          1,
          1,
          2,
          1,
          3,
          1,
          1,
          1,
          1,
          1,
          1,
          1,
          3,
          1,
          1,
          2,
          1,
          1,
          1,
          1,
          1,
          1,
          1,
          1,
          1,
          1,
          1,
          1,
          1,
          4,
          1,
          1,
          1,
          1,
          1,
          1,
          2,
          1,
          1,
          1,
          1,
          1,
          1,
          1,
          1,
          1,
          4,
          1,
          1,
          1,
          1,
          1,
          1,
          2,
          1,
          1,
          1,
          1,
          1,
          1,
          1,
          1,
          1,
          1,
          2,
          1,
          1,
          1,
          1,
          1,
          2,
          2,
          1,
          1,
          1,
          3,
          1,
          1,
          1,
          1,
          1,
          1,
          1,
          1,
          1,
          1,
          1,
          1,
          1,
          1,
          1,
          1,
          2,
          2,
          1,
          1,
          1,
          2,
          4,
          2,
          2,
          1,
          1,
          1,
          1,
          1,
          1,
          1,
          1,
          1,
          1,
          1,
          1,
          1,
          1,
          1,
          1,
          1
         ],
         "yaxis": "y"
        },
        {
         "alignmentgroup": "True",
         "hovertemplate": "Type=Girls<br>Order ID=%{x}<br>Count=%{y}<extra></extra>",
         "legendgroup": "Girls",
         "marker": {
          "color": "#EF553B",
          "pattern": {
           "shape": ""
          }
         },
         "name": "Girls",
         "offsetgroup": "Girls",
         "orientation": "v",
         "showlegend": true,
         "textposition": "auto",
         "type": "bar",
         "x": [
          6529,
          6530,
          6532,
          6548,
          6616,
          6629,
          6633,
          6656,
          6663,
          6696,
          6708,
          6729,
          6730,
          6754,
          6836,
          6938
         ],
         "xaxis": "x",
         "y": [
          1,
          2,
          1,
          1,
          2,
          1,
          2,
          2,
          1,
          1,
          1,
          1,
          2,
          3,
          2,
          1
         ],
         "yaxis": "y"
        },
        {
         "alignmentgroup": "True",
         "hovertemplate": "Type=Unstitched Kurta<br>Order ID=%{x}<br>Count=%{y}<extra></extra>",
         "legendgroup": "Unstitched Kurta",
         "marker": {
          "color": "#00cc96",
          "pattern": {
           "shape": ""
          }
         },
         "name": "Unstitched Kurta",
         "offsetgroup": "Unstitched Kurta",
         "orientation": "v",
         "showlegend": true,
         "textposition": "auto",
         "type": "bar",
         "x": [
          6532,
          6576,
          6577,
          6579,
          6581,
          6584,
          6587,
          6591,
          6601,
          6606,
          6618,
          6637,
          6638,
          6645,
          6647,
          6695,
          6703,
          6738,
          6740,
          6760,
          6768,
          6779,
          6801,
          6835,
          6861,
          6886,
          6927,
          6928
         ],
         "xaxis": "x",
         "y": [
          1,
          1,
          1,
          2,
          1,
          1,
          1,
          1,
          1,
          1,
          1,
          1,
          1,
          3,
          1,
          1,
          1,
          1,
          2,
          1,
          1,
          1,
          3,
          1,
          1,
          1,
          1,
          1
         ],
         "yaxis": "y"
        },
        {
         "alignmentgroup": "True",
         "hovertemplate": "Type=Dining Sheet<br>Order ID=%{x}<br>Count=%{y}<extra></extra>",
         "legendgroup": "Dining Sheet",
         "marker": {
          "color": "#ab63fa",
          "pattern": {
           "shape": ""
          }
         },
         "name": "Dining Sheet",
         "offsetgroup": "Dining Sheet",
         "orientation": "v",
         "showlegend": true,
         "textposition": "auto",
         "type": "bar",
         "x": [
          6537
         ],
         "xaxis": "x",
         "y": [
          1
         ],
         "yaxis": "y"
        },
        {
         "alignmentgroup": "True",
         "hovertemplate": "Type=Shalwar<br>Order ID=%{x}<br>Count=%{y}<extra></extra>",
         "legendgroup": "Shalwar",
         "marker": {
          "color": "#FFA15A",
          "pattern": {
           "shape": ""
          }
         },
         "name": "Shalwar",
         "offsetgroup": "Shalwar",
         "orientation": "v",
         "showlegend": true,
         "textposition": "auto",
         "type": "bar",
         "x": [
          6537,
          6594,
          6623,
          6651,
          6663,
          6672,
          6679,
          6695,
          6726,
          6820,
          6822,
          6830,
          6834,
          6860,
          6865,
          6898,
          6939,
          6947
         ],
         "xaxis": "x",
         "y": [
          1,
          1,
          1,
          1,
          1,
          1,
          1,
          1,
          1,
          1,
          1,
          1,
          1,
          1,
          1,
          1,
          1,
          1
         ],
         "yaxis": "y"
        },
        {
         "alignmentgroup": "True",
         "hovertemplate": "Type=Boys<br>Order ID=%{x}<br>Count=%{y}<extra></extra>",
         "legendgroup": "Boys",
         "marker": {
          "color": "#19d3f3",
          "pattern": {
           "shape": ""
          }
         },
         "name": "Boys",
         "offsetgroup": "Boys",
         "orientation": "v",
         "showlegend": true,
         "textposition": "auto",
         "type": "bar",
         "x": [
          6550
         ],
         "xaxis": "x",
         "y": [
          1
         ],
         "yaxis": "y"
        },
        {
         "alignmentgroup": "True",
         "hovertemplate": "Type=Bag<br>Order ID=%{x}<br>Count=%{y}<extra></extra>",
         "legendgroup": "Bag",
         "marker": {
          "color": "#FF6692",
          "pattern": {
           "shape": ""
          }
         },
         "name": "Bag",
         "offsetgroup": "Bag",
         "orientation": "v",
         "showlegend": true,
         "textposition": "auto",
         "type": "bar",
         "x": [
          6566,
          6583,
          6604,
          6644,
          6676,
          6702,
          6773,
          6803,
          6913,
          6917,
          6931,
          6937
         ],
         "xaxis": "x",
         "y": [
          2,
          2,
          1,
          3,
          1,
          1,
          1,
          1,
          1,
          1,
          1,
          2
         ],
         "yaxis": "y"
        },
        {
         "alignmentgroup": "True",
         "hovertemplate": "Type=Runner<br>Order ID=%{x}<br>Count=%{y}<extra></extra>",
         "legendgroup": "Runner",
         "marker": {
          "color": "#B6E880",
          "pattern": {
           "shape": ""
          }
         },
         "name": "Runner",
         "offsetgroup": "Runner",
         "orientation": "v",
         "showlegend": true,
         "textposition": "auto",
         "type": "bar",
         "x": [
          6568,
          6702
         ],
         "xaxis": "x",
         "y": [
          1,
          1
         ],
         "yaxis": "y"
        },
        {
         "alignmentgroup": "True",
         "hovertemplate": "Type=Classic/Kurta<br>Order ID=%{x}<br>Count=%{y}<extra></extra>",
         "legendgroup": "Classic/Kurta",
         "marker": {
          "color": "#FF97FF",
          "pattern": {
           "shape": ""
          }
         },
         "name": "Classic/Kurta",
         "offsetgroup": "Classic/Kurta",
         "orientation": "v",
         "showlegend": true,
         "textposition": "auto",
         "type": "bar",
         "x": [
          6569,
          6607,
          6712,
          6812
         ],
         "xaxis": "x",
         "y": [
          1,
          1,
          1,
          1
         ],
         "yaxis": "y"
        },
        {
         "alignmentgroup": "True",
         "hovertemplate": "Type=Unstitched<br>Order ID=%{x}<br>Count=%{y}<extra></extra>",
         "legendgroup": "Unstitched",
         "marker": {
          "color": "#FECB52",
          "pattern": {
           "shape": ""
          }
         },
         "name": "Unstitched",
         "offsetgroup": "Unstitched",
         "orientation": "v",
         "showlegend": true,
         "textposition": "auto",
         "type": "bar",
         "x": [
          6572,
          6573,
          6575,
          6581,
          6585,
          6597,
          6601,
          6617,
          6619,
          6621,
          6633,
          6640,
          6645,
          6649,
          6660,
          6676,
          6682,
          6695,
          6716,
          6720,
          6756,
          6757,
          6772,
          6774,
          6776,
          6779,
          6783,
          6787,
          6805,
          6854,
          6861
         ],
         "xaxis": "x",
         "y": [
          1,
          1,
          1,
          1,
          1,
          1,
          3,
          1,
          1,
          1,
          1,
          2,
          1,
          1,
          1,
          1,
          1,
          3,
          1,
          1,
          1,
          1,
          2,
          1,
          1,
          2,
          1,
          1,
          1,
          2,
          1
         ],
         "yaxis": "y"
        },
        {
         "alignmentgroup": "True",
         "hovertemplate": "Type=Duppatta<br>Order ID=%{x}<br>Count=%{y}<extra></extra>",
         "legendgroup": "Duppatta",
         "marker": {
          "color": "#636efa",
          "pattern": {
           "shape": ""
          }
         },
         "name": "Duppatta",
         "offsetgroup": "Duppatta",
         "orientation": "v",
         "showlegend": true,
         "textposition": "auto",
         "type": "bar",
         "x": [
          6581,
          6585,
          6594,
          6595,
          6606,
          6613,
          6652,
          6662,
          6689,
          6705,
          6710,
          6732,
          6738,
          6834,
          6869,
          6900,
          6902,
          6912,
          6932,
          6935
         ],
         "xaxis": "x",
         "y": [
          1,
          1,
          1,
          1,
          2,
          1,
          1,
          2,
          1,
          1,
          1,
          1,
          1,
          1,
          1,
          1,
          1,
          1,
          1,
          1
         ],
         "yaxis": "y"
        },
        {
         "alignmentgroup": "True",
         "hovertemplate": "Type=Tea Cosy<br>Order ID=%{x}<br>Count=%{y}<extra></extra>",
         "legendgroup": "Tea Cosy",
         "marker": {
          "color": "#EF553B",
          "pattern": {
           "shape": ""
          }
         },
         "name": "Tea Cosy",
         "offsetgroup": "Tea Cosy",
         "orientation": "v",
         "showlegend": true,
         "textposition": "auto",
         "type": "bar",
         "x": [
          6604,
          6670,
          6901
         ],
         "xaxis": "x",
         "y": [
          1,
          1,
          1
         ],
         "yaxis": "y"
        },
        {
         "alignmentgroup": "True",
         "hovertemplate": "Type=Jackets<br>Order ID=%{x}<br>Count=%{y}<extra></extra>",
         "legendgroup": "Jackets",
         "marker": {
          "color": "#00cc96",
          "pattern": {
           "shape": ""
          }
         },
         "name": "Jackets",
         "offsetgroup": "Jackets",
         "orientation": "v",
         "showlegend": true,
         "textposition": "auto",
         "type": "bar",
         "x": [
          6620
         ],
         "xaxis": "x",
         "y": [
          2
         ],
         "yaxis": "y"
        },
        {
         "alignmentgroup": "True",
         "hovertemplate": "Type=Bed Cover<br>Order ID=%{x}<br>Count=%{y}<extra></extra>",
         "legendgroup": "Bed Cover",
         "marker": {
          "color": "#ab63fa",
          "pattern": {
           "shape": ""
          }
         },
         "name": "Bed Cover",
         "offsetgroup": "Bed Cover",
         "orientation": "v",
         "showlegend": true,
         "textposition": "auto",
         "type": "bar",
         "x": [
          6665
         ],
         "xaxis": "x",
         "y": [
          1
         ],
         "yaxis": "y"
        },
        {
         "alignmentgroup": "True",
         "hovertemplate": "Type=Blanket<br>Order ID=%{x}<br>Count=%{y}<extra></extra>",
         "legendgroup": "Blanket",
         "marker": {
          "color": "#FFA15A",
          "pattern": {
           "shape": ""
          }
         },
         "name": "Blanket",
         "offsetgroup": "Blanket",
         "orientation": "v",
         "showlegend": true,
         "textposition": "auto",
         "type": "bar",
         "x": [
          6666,
          6863
         ],
         "xaxis": "x",
         "y": [
          1,
          1
         ],
         "yaxis": "y"
        },
        {
         "alignmentgroup": "True",
         "hovertemplate": "Type=Mat Set<br>Order ID=%{x}<br>Count=%{y}<extra></extra>",
         "legendgroup": "Mat Set",
         "marker": {
          "color": "#19d3f3",
          "pattern": {
           "shape": ""
          }
         },
         "name": "Mat Set",
         "offsetgroup": "Mat Set",
         "orientation": "v",
         "showlegend": true,
         "textposition": "auto",
         "type": "bar",
         "x": [
          6685
         ],
         "xaxis": "x",
         "y": [
          1
         ],
         "yaxis": "y"
        },
        {
         "alignmentgroup": "True",
         "hovertemplate": "Type=Dupatta<br>Order ID=%{x}<br>Count=%{y}<extra></extra>",
         "legendgroup": "Dupatta",
         "marker": {
          "color": "#FF6692",
          "pattern": {
           "shape": ""
          }
         },
         "name": "Dupatta",
         "offsetgroup": "Dupatta",
         "orientation": "v",
         "showlegend": true,
         "textposition": "auto",
         "type": "bar",
         "x": [
          6689,
          6700,
          6732,
          6886,
          6910
         ],
         "xaxis": "x",
         "y": [
          1,
          1,
          1,
          1,
          1
         ],
         "yaxis": "y"
        },
        {
         "alignmentgroup": "True",
         "hovertemplate": "Type=Kurtas<br>Order ID=%{x}<br>Count=%{y}<extra></extra>",
         "legendgroup": "Kurtas",
         "marker": {
          "color": "#B6E880",
          "pattern": {
           "shape": ""
          }
         },
         "name": "Kurtas",
         "offsetgroup": "Kurtas",
         "orientation": "v",
         "showlegend": true,
         "textposition": "auto",
         "type": "bar",
         "x": [
          6752,
          6753,
          6754,
          6755,
          6758,
          6759,
          6761,
          6762,
          6763,
          6764,
          6765,
          6766,
          6767,
          6769,
          6770,
          6772,
          6775,
          6777,
          6778,
          6779,
          6781,
          6782,
          6784,
          6785,
          6786,
          6788,
          6790,
          6791,
          6792,
          6793,
          6794,
          6796,
          6798,
          6799,
          6800,
          6802,
          6804,
          6806,
          6807,
          6808,
          6809,
          6811,
          6814,
          6815,
          6817,
          6818,
          6823,
          6826,
          6829,
          6840,
          6842,
          6844,
          6846,
          6852,
          6855,
          6856,
          6857,
          6862,
          6866,
          6868,
          6873,
          6877,
          6878,
          6879,
          6890,
          6893,
          6894,
          6902,
          6903,
          6905,
          6909,
          6916,
          6918,
          6919,
          6923,
          6924,
          6925,
          6929,
          6930,
          6933,
          6936,
          6938,
          6939,
          6940,
          6941,
          6945
         ],
         "xaxis": "x",
         "y": [
          1,
          1,
          1,
          1,
          1,
          1,
          1,
          1,
          1,
          1,
          4,
          1,
          2,
          2,
          5,
          1,
          1,
          1,
          4,
          1,
          1,
          1,
          1,
          1,
          1,
          1,
          1,
          1,
          1,
          2,
          1,
          1,
          1,
          1,
          3,
          1,
          2,
          1,
          2,
          2,
          1,
          1,
          1,
          1,
          1,
          1,
          1,
          3,
          2,
          1,
          1,
          1,
          1,
          3,
          1,
          1,
          1,
          2,
          1,
          1,
          1,
          1,
          1,
          1,
          1,
          1,
          1,
          1,
          1,
          1,
          1,
          2,
          1,
          1,
          1,
          1,
          1,
          1,
          1,
          1,
          1,
          1,
          1,
          1,
          1,
          1
         ],
         "yaxis": "y"
        },
        {
         "alignmentgroup": "True",
         "hovertemplate": "Type=Top<br>Order ID=%{x}<br>Count=%{y}<extra></extra>",
         "legendgroup": "Top",
         "marker": {
          "color": "#FF97FF",
          "pattern": {
           "shape": ""
          }
         },
         "name": "Top",
         "offsetgroup": "Top",
         "orientation": "v",
         "showlegend": true,
         "textposition": "auto",
         "type": "bar",
         "x": [
          6779,
          6885,
          6887,
          6914,
          6934,
          6944
         ],
         "xaxis": "x",
         "y": [
          1,
          1,
          1,
          1,
          1,
          1
         ],
         "yaxis": "y"
        },
        {
         "alignmentgroup": "True",
         "hovertemplate": "Type=Bags<br>Order ID=%{x}<br>Count=%{y}<extra></extra>",
         "legendgroup": "Bags",
         "marker": {
          "color": "#FECB52",
          "pattern": {
           "shape": ""
          }
         },
         "name": "Bags",
         "offsetgroup": "Bags",
         "orientation": "v",
         "showlegend": true,
         "textposition": "auto",
         "type": "bar",
         "x": [
          6830,
          6831,
          6906,
          6907,
          6908,
          6911,
          6913,
          6915,
          6917,
          6921,
          6926
         ],
         "xaxis": "x",
         "y": [
          1,
          2,
          1,
          1,
          2,
          2,
          1,
          1,
          1,
          1,
          1
         ],
         "yaxis": "y"
        },
        {
         "alignmentgroup": "True",
         "hovertemplate": "Type=Sweater<br>Order ID=%{x}<br>Count=%{y}<extra></extra>",
         "legendgroup": "Sweater",
         "marker": {
          "color": "#636efa",
          "pattern": {
           "shape": ""
          }
         },
         "name": "Sweater",
         "offsetgroup": "Sweater",
         "orientation": "v",
         "showlegend": true,
         "textposition": "auto",
         "type": "bar",
         "x": [
          6863
         ],
         "xaxis": "x",
         "y": [
          2
         ],
         "yaxis": "y"
        },
        {
         "alignmentgroup": "True",
         "hovertemplate": "Type=Jacket and Pant<br>Order ID=%{x}<br>Count=%{y}<extra></extra>",
         "legendgroup": "Jacket and Pant",
         "marker": {
          "color": "#EF553B",
          "pattern": {
           "shape": ""
          }
         },
         "name": "Jacket and Pant",
         "offsetgroup": "Jacket and Pant",
         "orientation": "v",
         "showlegend": true,
         "textposition": "auto",
         "type": "bar",
         "x": [
          6872
         ],
         "xaxis": "x",
         "y": [
          1
         ],
         "yaxis": "y"
        },
        {
         "alignmentgroup": "True",
         "hovertemplate": "Type=Stole<br>Order ID=%{x}<br>Count=%{y}<extra></extra>",
         "legendgroup": "Stole",
         "marker": {
          "color": "#00cc96",
          "pattern": {
           "shape": ""
          }
         },
         "name": "Stole",
         "offsetgroup": "Stole",
         "orientation": "v",
         "showlegend": true,
         "textposition": "auto",
         "type": "bar",
         "x": [
          6880
         ],
         "xaxis": "x",
         "y": [
          1
         ],
         "yaxis": "y"
        }
       ],
       "layout": {
        "barmode": "relative",
        "legend": {
         "title": {
          "text": "Type"
         },
         "tracegroupgap": 0
        },
        "template": {
         "data": {
          "bar": [
           {
            "error_x": {
             "color": "#2a3f5f"
            },
            "error_y": {
             "color": "#2a3f5f"
            },
            "marker": {
             "line": {
              "color": "#E5ECF6",
              "width": 0.5
             },
             "pattern": {
              "fillmode": "overlay",
              "size": 10,
              "solidity": 0.2
             }
            },
            "type": "bar"
           }
          ],
          "barpolar": [
           {
            "marker": {
             "line": {
              "color": "#E5ECF6",
              "width": 0.5
             },
             "pattern": {
              "fillmode": "overlay",
              "size": 10,
              "solidity": 0.2
             }
            },
            "type": "barpolar"
           }
          ],
          "carpet": [
           {
            "aaxis": {
             "endlinecolor": "#2a3f5f",
             "gridcolor": "white",
             "linecolor": "white",
             "minorgridcolor": "white",
             "startlinecolor": "#2a3f5f"
            },
            "baxis": {
             "endlinecolor": "#2a3f5f",
             "gridcolor": "white",
             "linecolor": "white",
             "minorgridcolor": "white",
             "startlinecolor": "#2a3f5f"
            },
            "type": "carpet"
           }
          ],
          "choropleth": [
           {
            "colorbar": {
             "outlinewidth": 0,
             "ticks": ""
            },
            "type": "choropleth"
           }
          ],
          "contour": [
           {
            "colorbar": {
             "outlinewidth": 0,
             "ticks": ""
            },
            "colorscale": [
             [
              0,
              "#0d0887"
             ],
             [
              0.1111111111111111,
              "#46039f"
             ],
             [
              0.2222222222222222,
              "#7201a8"
             ],
             [
              0.3333333333333333,
              "#9c179e"
             ],
             [
              0.4444444444444444,
              "#bd3786"
             ],
             [
              0.5555555555555556,
              "#d8576b"
             ],
             [
              0.6666666666666666,
              "#ed7953"
             ],
             [
              0.7777777777777778,
              "#fb9f3a"
             ],
             [
              0.8888888888888888,
              "#fdca26"
             ],
             [
              1,
              "#f0f921"
             ]
            ],
            "type": "contour"
           }
          ],
          "contourcarpet": [
           {
            "colorbar": {
             "outlinewidth": 0,
             "ticks": ""
            },
            "type": "contourcarpet"
           }
          ],
          "heatmap": [
           {
            "colorbar": {
             "outlinewidth": 0,
             "ticks": ""
            },
            "colorscale": [
             [
              0,
              "#0d0887"
             ],
             [
              0.1111111111111111,
              "#46039f"
             ],
             [
              0.2222222222222222,
              "#7201a8"
             ],
             [
              0.3333333333333333,
              "#9c179e"
             ],
             [
              0.4444444444444444,
              "#bd3786"
             ],
             [
              0.5555555555555556,
              "#d8576b"
             ],
             [
              0.6666666666666666,
              "#ed7953"
             ],
             [
              0.7777777777777778,
              "#fb9f3a"
             ],
             [
              0.8888888888888888,
              "#fdca26"
             ],
             [
              1,
              "#f0f921"
             ]
            ],
            "type": "heatmap"
           }
          ],
          "heatmapgl": [
           {
            "colorbar": {
             "outlinewidth": 0,
             "ticks": ""
            },
            "colorscale": [
             [
              0,
              "#0d0887"
             ],
             [
              0.1111111111111111,
              "#46039f"
             ],
             [
              0.2222222222222222,
              "#7201a8"
             ],
             [
              0.3333333333333333,
              "#9c179e"
             ],
             [
              0.4444444444444444,
              "#bd3786"
             ],
             [
              0.5555555555555556,
              "#d8576b"
             ],
             [
              0.6666666666666666,
              "#ed7953"
             ],
             [
              0.7777777777777778,
              "#fb9f3a"
             ],
             [
              0.8888888888888888,
              "#fdca26"
             ],
             [
              1,
              "#f0f921"
             ]
            ],
            "type": "heatmapgl"
           }
          ],
          "histogram": [
           {
            "marker": {
             "pattern": {
              "fillmode": "overlay",
              "size": 10,
              "solidity": 0.2
             }
            },
            "type": "histogram"
           }
          ],
          "histogram2d": [
           {
            "colorbar": {
             "outlinewidth": 0,
             "ticks": ""
            },
            "colorscale": [
             [
              0,
              "#0d0887"
             ],
             [
              0.1111111111111111,
              "#46039f"
             ],
             [
              0.2222222222222222,
              "#7201a8"
             ],
             [
              0.3333333333333333,
              "#9c179e"
             ],
             [
              0.4444444444444444,
              "#bd3786"
             ],
             [
              0.5555555555555556,
              "#d8576b"
             ],
             [
              0.6666666666666666,
              "#ed7953"
             ],
             [
              0.7777777777777778,
              "#fb9f3a"
             ],
             [
              0.8888888888888888,
              "#fdca26"
             ],
             [
              1,
              "#f0f921"
             ]
            ],
            "type": "histogram2d"
           }
          ],
          "histogram2dcontour": [
           {
            "colorbar": {
             "outlinewidth": 0,
             "ticks": ""
            },
            "colorscale": [
             [
              0,
              "#0d0887"
             ],
             [
              0.1111111111111111,
              "#46039f"
             ],
             [
              0.2222222222222222,
              "#7201a8"
             ],
             [
              0.3333333333333333,
              "#9c179e"
             ],
             [
              0.4444444444444444,
              "#bd3786"
             ],
             [
              0.5555555555555556,
              "#d8576b"
             ],
             [
              0.6666666666666666,
              "#ed7953"
             ],
             [
              0.7777777777777778,
              "#fb9f3a"
             ],
             [
              0.8888888888888888,
              "#fdca26"
             ],
             [
              1,
              "#f0f921"
             ]
            ],
            "type": "histogram2dcontour"
           }
          ],
          "mesh3d": [
           {
            "colorbar": {
             "outlinewidth": 0,
             "ticks": ""
            },
            "type": "mesh3d"
           }
          ],
          "parcoords": [
           {
            "line": {
             "colorbar": {
              "outlinewidth": 0,
              "ticks": ""
             }
            },
            "type": "parcoords"
           }
          ],
          "pie": [
           {
            "automargin": true,
            "type": "pie"
           }
          ],
          "scatter": [
           {
            "marker": {
             "colorbar": {
              "outlinewidth": 0,
              "ticks": ""
             }
            },
            "type": "scatter"
           }
          ],
          "scatter3d": [
           {
            "line": {
             "colorbar": {
              "outlinewidth": 0,
              "ticks": ""
             }
            },
            "marker": {
             "colorbar": {
              "outlinewidth": 0,
              "ticks": ""
             }
            },
            "type": "scatter3d"
           }
          ],
          "scattercarpet": [
           {
            "marker": {
             "colorbar": {
              "outlinewidth": 0,
              "ticks": ""
             }
            },
            "type": "scattercarpet"
           }
          ],
          "scattergeo": [
           {
            "marker": {
             "colorbar": {
              "outlinewidth": 0,
              "ticks": ""
             }
            },
            "type": "scattergeo"
           }
          ],
          "scattergl": [
           {
            "marker": {
             "colorbar": {
              "outlinewidth": 0,
              "ticks": ""
             }
            },
            "type": "scattergl"
           }
          ],
          "scattermapbox": [
           {
            "marker": {
             "colorbar": {
              "outlinewidth": 0,
              "ticks": ""
             }
            },
            "type": "scattermapbox"
           }
          ],
          "scatterpolar": [
           {
            "marker": {
             "colorbar": {
              "outlinewidth": 0,
              "ticks": ""
             }
            },
            "type": "scatterpolar"
           }
          ],
          "scatterpolargl": [
           {
            "marker": {
             "colorbar": {
              "outlinewidth": 0,
              "ticks": ""
             }
            },
            "type": "scatterpolargl"
           }
          ],
          "scatterternary": [
           {
            "marker": {
             "colorbar": {
              "outlinewidth": 0,
              "ticks": ""
             }
            },
            "type": "scatterternary"
           }
          ],
          "surface": [
           {
            "colorbar": {
             "outlinewidth": 0,
             "ticks": ""
            },
            "colorscale": [
             [
              0,
              "#0d0887"
             ],
             [
              0.1111111111111111,
              "#46039f"
             ],
             [
              0.2222222222222222,
              "#7201a8"
             ],
             [
              0.3333333333333333,
              "#9c179e"
             ],
             [
              0.4444444444444444,
              "#bd3786"
             ],
             [
              0.5555555555555556,
              "#d8576b"
             ],
             [
              0.6666666666666666,
              "#ed7953"
             ],
             [
              0.7777777777777778,
              "#fb9f3a"
             ],
             [
              0.8888888888888888,
              "#fdca26"
             ],
             [
              1,
              "#f0f921"
             ]
            ],
            "type": "surface"
           }
          ],
          "table": [
           {
            "cells": {
             "fill": {
              "color": "#EBF0F8"
             },
             "line": {
              "color": "white"
             }
            },
            "header": {
             "fill": {
              "color": "#C8D4E3"
             },
             "line": {
              "color": "white"
             }
            },
            "type": "table"
           }
          ]
         },
         "layout": {
          "annotationdefaults": {
           "arrowcolor": "#2a3f5f",
           "arrowhead": 0,
           "arrowwidth": 1
          },
          "autotypenumbers": "strict",
          "coloraxis": {
           "colorbar": {
            "outlinewidth": 0,
            "ticks": ""
           }
          },
          "colorscale": {
           "diverging": [
            [
             0,
             "#8e0152"
            ],
            [
             0.1,
             "#c51b7d"
            ],
            [
             0.2,
             "#de77ae"
            ],
            [
             0.3,
             "#f1b6da"
            ],
            [
             0.4,
             "#fde0ef"
            ],
            [
             0.5,
             "#f7f7f7"
            ],
            [
             0.6,
             "#e6f5d0"
            ],
            [
             0.7,
             "#b8e186"
            ],
            [
             0.8,
             "#7fbc41"
            ],
            [
             0.9,
             "#4d9221"
            ],
            [
             1,
             "#276419"
            ]
           ],
           "sequential": [
            [
             0,
             "#0d0887"
            ],
            [
             0.1111111111111111,
             "#46039f"
            ],
            [
             0.2222222222222222,
             "#7201a8"
            ],
            [
             0.3333333333333333,
             "#9c179e"
            ],
            [
             0.4444444444444444,
             "#bd3786"
            ],
            [
             0.5555555555555556,
             "#d8576b"
            ],
            [
             0.6666666666666666,
             "#ed7953"
            ],
            [
             0.7777777777777778,
             "#fb9f3a"
            ],
            [
             0.8888888888888888,
             "#fdca26"
            ],
            [
             1,
             "#f0f921"
            ]
           ],
           "sequentialminus": [
            [
             0,
             "#0d0887"
            ],
            [
             0.1111111111111111,
             "#46039f"
            ],
            [
             0.2222222222222222,
             "#7201a8"
            ],
            [
             0.3333333333333333,
             "#9c179e"
            ],
            [
             0.4444444444444444,
             "#bd3786"
            ],
            [
             0.5555555555555556,
             "#d8576b"
            ],
            [
             0.6666666666666666,
             "#ed7953"
            ],
            [
             0.7777777777777778,
             "#fb9f3a"
            ],
            [
             0.8888888888888888,
             "#fdca26"
            ],
            [
             1,
             "#f0f921"
            ]
           ]
          },
          "colorway": [
           "#636efa",
           "#EF553B",
           "#00cc96",
           "#ab63fa",
           "#FFA15A",
           "#19d3f3",
           "#FF6692",
           "#B6E880",
           "#FF97FF",
           "#FECB52"
          ],
          "font": {
           "color": "#2a3f5f"
          },
          "geo": {
           "bgcolor": "white",
           "lakecolor": "white",
           "landcolor": "#E5ECF6",
           "showlakes": true,
           "showland": true,
           "subunitcolor": "white"
          },
          "hoverlabel": {
           "align": "left"
          },
          "hovermode": "closest",
          "mapbox": {
           "style": "light"
          },
          "paper_bgcolor": "white",
          "plot_bgcolor": "#E5ECF6",
          "polar": {
           "angularaxis": {
            "gridcolor": "white",
            "linecolor": "white",
            "ticks": ""
           },
           "bgcolor": "#E5ECF6",
           "radialaxis": {
            "gridcolor": "white",
            "linecolor": "white",
            "ticks": ""
           }
          },
          "scene": {
           "xaxis": {
            "backgroundcolor": "#E5ECF6",
            "gridcolor": "white",
            "gridwidth": 2,
            "linecolor": "white",
            "showbackground": true,
            "ticks": "",
            "zerolinecolor": "white"
           },
           "yaxis": {
            "backgroundcolor": "#E5ECF6",
            "gridcolor": "white",
            "gridwidth": 2,
            "linecolor": "white",
            "showbackground": true,
            "ticks": "",
            "zerolinecolor": "white"
           },
           "zaxis": {
            "backgroundcolor": "#E5ECF6",
            "gridcolor": "white",
            "gridwidth": 2,
            "linecolor": "white",
            "showbackground": true,
            "ticks": "",
            "zerolinecolor": "white"
           }
          },
          "shapedefaults": {
           "line": {
            "color": "#2a3f5f"
           }
          },
          "ternary": {
           "aaxis": {
            "gridcolor": "white",
            "linecolor": "white",
            "ticks": ""
           },
           "baxis": {
            "gridcolor": "white",
            "linecolor": "white",
            "ticks": ""
           },
           "bgcolor": "#E5ECF6",
           "caxis": {
            "gridcolor": "white",
            "linecolor": "white",
            "ticks": ""
           }
          },
          "title": {
           "x": 0.05
          },
          "xaxis": {
           "automargin": true,
           "gridcolor": "white",
           "linecolor": "white",
           "ticks": "",
           "title": {
            "standoff": 15
           },
           "zerolinecolor": "white",
           "zerolinewidth": 2
          },
          "yaxis": {
           "automargin": true,
           "gridcolor": "white",
           "linecolor": "white",
           "ticks": "",
           "title": {
            "standoff": 15
           },
           "zerolinecolor": "white",
           "zerolinewidth": 2
          }
         }
        },
        "title": {
         "text": "Products Bought by Order ID"
        },
        "xaxis": {
         "anchor": "y",
         "domain": [
          0,
          1
         ],
         "title": {
          "text": "Order ID"
         }
        },
        "yaxis": {
         "anchor": "x",
         "domain": [
          0,
          1
         ],
         "title": {
          "text": "Count"
         }
        }
       }
      }
     },
     "metadata": {},
     "output_type": "display_data"
    }
   ],
   "source": [
    "# Group by Order ID and Type, and count the occurrences\n",
    "df_order_product = df.groupby(['Order ID', 'Type']).size().reset_index(name='Count')\n",
    "\n",
    "# Plot the grouped bar chart\n",
    "fig = px.bar(df_order_product, x='Order ID', y='Count', color='Type', title='Products Bought by Order ID')\n",
    "\n",
    "# Show the plot\n",
    "fig.show()"
   ]
  },
  {
   "attachments": {},
   "cell_type": "markdown",
   "metadata": {},
   "source": [
    "# Items Bought Together"
   ]
  },
  {
   "cell_type": "code",
   "execution_count": 45,
   "metadata": {},
   "outputs": [
    {
     "name": "stdout",
     "output_type": "stream",
     "text": [
      "Rules for One Item Set:\n",
      "          antecedents         consequents  antecedent support  \\\n",
      "2  (Unstitched Kurta)        (Unstitched)            0.066194   \n",
      "3        (Unstitched)  (Unstitched Kurta)            0.073286   \n",
      "1          (Duppatta)  (Unstitched Kurta)            0.047281   \n",
      "0  (Unstitched Kurta)          (Duppatta)            0.066194   \n",
      "\n",
      "   consequent support   support  confidence      lift  leverage  conviction  \\\n",
      "2            0.073286  0.014184    0.214286  2.923963  0.009333    1.179454   \n",
      "3            0.066194  0.014184    0.193548  2.923963  0.009333    1.157920   \n",
      "1            0.066194  0.007092    0.150000  2.266071  0.003962    1.098595   \n",
      "0            0.047281  0.007092    0.107143  2.266071  0.003962    1.067045   \n",
      "\n",
      "   zhangs_metric  \n",
      "2       0.704641  \n",
      "3       0.710034  \n",
      "1       0.586435  \n",
      "0       0.598312  \n"
     ]
    }
   ],
   "source": [
    "\n",
    "# Convert the data into one-hot encoded format\n",
    "df_one_hot_encoded = pd.get_dummies(df[['Type']], prefix=\"\", prefix_sep=\"\")\n",
    "\n",
    "# Add the Order ID column to the one-hot encoded dataframe\n",
    "df_one_hot_encoded['Order ID'] = df['Order ID']\n",
    "\n",
    "# Move the Order ID column to the first column\n",
    "df_one_hot_encoded = df_one_hot_encoded.set_index('Order ID').reset_index()\n",
    "\n",
    "# Group the data by Order ID and calculate the sum of each product\n",
    "df_grouped = df_one_hot_encoded.groupby('Order ID').sum()\n",
    "\n",
    "# Convert the data into boolean format\n",
    "df_grouped = df_grouped.applymap(lambda x: True if x > 0 else False)\n",
    "\n",
    "# Perform Apriori algorithm for different item sets\n",
    "\n",
    "# One item set\n",
    "frequent_itemsets1 = apriori(df_grouped, min_support=0.006, use_colnames=True)\n",
    "rules1 = association_rules(frequent_itemsets1, metric=\"lift\", min_threshold=1)\n",
    "\n",
    "# Two item sets\n",
    "frequent_itemsets2 = apriori(df_grouped, min_support=0.001, use_colnames=True, max_len=2)\n",
    "rules2 = association_rules(frequent_itemsets2, metric=\"lift\", min_threshold=1)\n",
    "\n",
    "# Three item sets\n",
    "frequent_itemsets3 = apriori(df_grouped, min_support=0.0001, use_colnames=True, max_len=3)\n",
    "rules3 = association_rules(frequent_itemsets3, metric=\"lift\", min_threshold=1)\n",
    "\n",
    "# Sort the rules by confidence in descending order\n",
    "rules1 = rules1.sort_values(['confidence'], ascending=False)\n",
    "rules2 = rules2.sort_values(['confidence'], ascending=False)\n",
    "rules3 = rules3.sort_values(['confidence'], ascending=False)\n",
    "\n",
    "# Show the top 10 rules for each item set\n",
    "\n",
    "print(\"Rules for One Item Set:\")\n",
    "print(rules1.head(10))"
   ]
  },
  {
   "cell_type": "code",
   "execution_count": 48,
   "metadata": {},
   "outputs": [
    {
     "name": "stdout",
     "output_type": "stream",
     "text": [
      "\n",
      "Rules for Two Item Sets:\n",
      "       antecedents consequents  antecedent support  consequent support  \\\n",
      "16  (Dining Sheet)   (Shalwar)            0.002364            0.042553   \n",
      "33       (Mat Set)     (Kurta)            0.002364            0.555556   \n",
      "31       (Jackets)     (Kurta)            0.002364            0.555556   \n",
      "10     (Bed Cover)     (Kurta)            0.002364            0.555556   \n",
      "12       (Sweater)   (Blanket)            0.002364            0.004728   \n",
      "15  (Dining Sheet)     (Kurta)            0.002364            0.555556   \n",
      "2         (Runner)       (Bag)            0.004728            0.028369   \n",
      "13       (Blanket)   (Sweater)            0.004728            0.002364   \n",
      "19       (Dupatta)  (Duppatta)            0.011820            0.047281   \n",
      "4       (Tea Cosy)       (Bag)            0.007092            0.028369   \n",
      "\n",
      "     support  confidence     lift  leverage  conviction  zhangs_metric  \n",
      "16  0.002364    1.000000   23.500  0.002263         inf       0.959716  \n",
      "33  0.002364    1.000000    1.800  0.001051         inf       0.445498  \n",
      "31  0.002364    1.000000    1.800  0.001051         inf       0.445498  \n",
      "10  0.002364    1.000000    1.800  0.001051         inf       0.445498  \n",
      "12  0.002364    1.000000  211.500  0.002353         inf       0.997630  \n",
      "15  0.002364    1.000000    1.800  0.001051         inf       0.445498  \n",
      "2   0.002364    0.500000   17.625  0.002230    1.943262       0.947743  \n",
      "13  0.002364    0.500000  211.500  0.002353    1.995272       1.000000  \n",
      "19  0.004728    0.400000    8.460  0.004169    1.587864       0.892344  \n",
      "4   0.002364    0.333333   11.750  0.002163    1.457447       0.921429  \n"
     ]
    }
   ],
   "source": [
    "print(\"\\nRules for Two Item Sets:\")\n",
    "\n",
    "print(rules2.head(10))"
   ]
  },
  {
   "cell_type": "code",
   "execution_count": 49,
   "metadata": {},
   "outputs": [
    {
     "name": "stdout",
     "output_type": "stream",
     "text": [
      "\n",
      "Rules for Three Item Sets:\n",
      "                    antecedents         consequents  antecedent support  \\\n",
      "110               (Top, Kurtas)  (Unstitched Kurta)            0.002364   \n",
      "120       (Unstitched, Shalwar)  (Unstitched Kurta)            0.002364   \n",
      "108     (Unstitched Kurta, Top)            (Kurtas)            0.002364   \n",
      "109  (Unstitched Kurta, Kurtas)               (Top)            0.002364   \n",
      "124     (Unstitched Kurta, Top)        (Unstitched)            0.002364   \n",
      "31                    (Jackets)             (Kurta)            0.002364   \n",
      "33                    (Mat Set)             (Kurta)            0.002364   \n",
      "72                (Top, Kurtas)             (Kurta)            0.002364   \n",
      "41                 (Kurta, Bag)        (Unstitched)            0.002364   \n",
      "103               (Top, Kurtas)        (Unstitched)            0.002364   \n",
      "\n",
      "     consequent support   support  confidence       lift  leverage  \\\n",
      "110            0.066194  0.002364         1.0  15.107143  0.002208   \n",
      "120            0.066194  0.002364         1.0  15.107143  0.002208   \n",
      "108            0.203310  0.002364         1.0   4.918605  0.001883   \n",
      "109            0.014184  0.002364         1.0  70.500000  0.002331   \n",
      "124            0.073286  0.002364         1.0  13.645161  0.002191   \n",
      "31             0.555556  0.002364         1.0   1.800000  0.001051   \n",
      "33             0.555556  0.002364         1.0   1.800000  0.001051   \n",
      "72             0.555556  0.002364         1.0   1.800000  0.001051   \n",
      "41             0.073286  0.002364         1.0  13.645161  0.002191   \n",
      "103            0.073286  0.002364         1.0  13.645161  0.002191   \n",
      "\n",
      "     conviction  zhangs_metric  \n",
      "110         inf       0.936019  \n",
      "120         inf       0.936019  \n",
      "108         inf       0.798578  \n",
      "109         inf       0.988152  \n",
      "124         inf       0.928910  \n",
      "31          inf       0.445498  \n",
      "33          inf       0.445498  \n",
      "72          inf       0.445498  \n",
      "41          inf       0.928910  \n",
      "103         inf       0.928910  \n"
     ]
    }
   ],
   "source": [
    "print(\"\\nRules for Three Item Sets:\")\n",
    "print(rules3.head(10))"
   ]
  },
  {
   "attachments": {},
   "cell_type": "markdown",
   "metadata": {},
   "source": [
    "# Anomaly Detection"
   ]
  },
  {
   "cell_type": "code",
   "execution_count": 54,
   "metadata": {},
   "outputs": [
    {
     "name": "stdout",
     "output_type": "stream",
     "text": [
      "Outliers: 2\n",
      "     Order ID     Status        Product Name       SKU   Barcode  Quantity  \\\n",
      "22       6537  Fulfilled  Roses Dining Sheet  DS 15-16  DS 15-16         1   \n",
      "576      6930  Fulfilled    Sprinkle - White  20-K-682  20-K-682         2   \n",
      "\n",
      "       Price          Type   Brand  \n",
      "22   12990.0  Dining Sheet  Behbud  \n",
      "576  15980.0        Kurtas  Behbud  \n"
     ]
    }
   ],
   "source": [
    "#find outliers in the data using the IQR\n",
    "\n",
    "# Calculate the first and third quartiles\n",
    "\n",
    "Q1 = df['Price'].quantile(0.25)\n",
    "\n",
    "Q3 = df['Price'].quantile(0.75)\n",
    "\n",
    "# Calculate the IQR\n",
    "\n",
    "IQR = Q3 - Q1\n",
    "\n",
    "# Calculate the lower and upper bound\n",
    "\n",
    "lower = Q1 - 1.5 * IQR\n",
    "\n",
    "upper = Q3 + 1.5 * IQR\n",
    "\n",
    "# Get the outliers\n",
    "\n",
    "df_outliers = df[(df['Price'] < lower) | (df['Price'] > upper)]\n",
    "\n",
    "# Print the lenth of the outliers\n",
    "\n",
    "print(\"Outliers:\", len(df_outliers))\n",
    "\n",
    "# Print the outliers\n",
    "\n",
    "print(df_outliers)"
   ]
  }
 ],
 "metadata": {
  "kernelspec": {
   "display_name": "base",
   "language": "python",
   "name": "python3"
  },
  "language_info": {
   "codemirror_mode": {
    "name": "ipython",
    "version": 3
   },
   "file_extension": ".py",
   "mimetype": "text/x-python",
   "name": "python",
   "nbconvert_exporter": "python",
   "pygments_lexer": "ipython3",
   "version": "3.9.12"
  },
  "orig_nbformat": 4
 },
 "nbformat": 4,
 "nbformat_minor": 2
}
